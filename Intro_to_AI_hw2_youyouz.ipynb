{
 "cells": [
  {
   "cell_type": "markdown",
   "metadata": {},
   "source": [
    "## Intro to AI Assignment 2: Predicting the popularity (retweets) of COVID-19 related tweets\n",
    "### Audrey Zhang\n",
    "### October 2020"
   ]
  },
  {
   "cell_type": "markdown",
   "metadata": {},
   "source": [
    "Answers to assignment questions:\n",
    "\n",
    "2c: The plots show that the # of followers and # of friends for the tweets in the dataset are normally distributed. The # of favorites is also somewhat similar to a normal distribution, but has a second peak at 0. This is likely caused by the large number of tweets that only had 0-1 favorites. \n",
    "\n",
    "The corelation matrix signifies that the # of favorites on a tweet is most highly correlated with the tweet's popularity (# retweet), with a correlation coefficient of 0.89. This is followed by the # of followers with a correlation coefficient of 0.13. \n",
    "\n",
    "2d: The +/- signs indicate the direction of the correlation. + indicates positive correlation. For example, a higher # of favorites is correlated with a higher # of retweets. In contrast, - indicates negative correlation. An increase in the negative sentiment score is correlated with a lower # of retweets.\n",
    "\n",
    "2e: If a feature shows 0 correlation with #Retweets, it means it is not linearly correlated wth the dependent variable (retweets). However, it can still contribute to the prediction as a control variable. This helps reduce the potential for omitted variable bias in the model. There may also be interaction/confounding effects between the predictor variables that need to be accounted for in the prediction model. \n",
    "\n",
    "6: Among the various models tried and the two datasets used (one with 'full' features (i.e. with addtional features engineered from raw data) and one with reduced features (i.e. with some engineered features combined), an XGBoost tree method has the best score in terms of smallest RMSE. Because the outcome variable here is a continuous variable, other model evaluation metrics like accuracy/precision/recall are less helpful. Additionally, the R-squared value is used to inform how much of the variability in the dependent variable is actually captured by the model. \n",
    "\n",
    "The resulting RMSE is 153.73, with an adjusted R-squared value of 67.6. Note that there is one outlier in the data with a significantly outlying number of retweets (>73,000). Removing this observation could theoretically improve the model accuracy (and reduce the RMSE). However, because this observation is a natural part of the data variability and is not caused by errors such as data entry, a decision was made to keep this observation in the data so as not to artifically reduce the data variability.\n",
    "\n",
    "Additionally, note that the XGBoost tree regression using the reduced dataset had an RMSE of 156.7 and adjusted R-squared of 0.66. This indicates that having the additional features expanded as dummy variables in the full dataset is only marginally more informative for the model than having them combined in the reduced dataset. "
   ]
  },
  {
   "cell_type": "markdown",
   "metadata": {},
   "source": [
    "#### Initial data cleaning and feature creation"
   ]
  },
  {
   "cell_type": "code",
   "execution_count": 1,
   "metadata": {},
   "outputs": [],
   "source": [
    "# import libraries\n",
    "import numpy as np\n",
    "import pandas as pd\n",
    "import itertools\n",
    "from collections import Counter\n",
    "import seaborn as sns\n",
    "import matplotlib.pyplot as plt\n",
    "import re\n",
    "from math import sqrt\n",
    "from sklearn.metrics import mean_squared_error\n",
    "from sklearn.metrics import r2_score\n",
    "from sklearn.model_selection import train_test_split\n",
    "from sklearn.preprocessing import StandardScaler\n",
    "from sklearn.linear_model import Ridge\n",
    "from sklearn.linear_model import LinearRegression\n",
    "from sklearn.linear_model import Lasso\n",
    "from sklearn.tree import DecisionTreeRegressor\n",
    "from sklearn.ensemble import RandomForestRegressor\n",
    "from xgboost import XGBRegressor\n",
    "from sklearn.decomposition import PCA\n",
    "from sklearn.pipeline import make_pipeline"
   ]
  },
  {
   "cell_type": "code",
   "execution_count": 2,
   "metadata": {},
   "outputs": [],
   "source": [
    "tweets=pd.read_csv('./hw2.csv')"
   ]
  },
  {
   "cell_type": "code",
   "execution_count": 3,
   "metadata": {},
   "outputs": [
    {
     "data": {
      "text/html": [
       "<div>\n",
       "<style scoped>\n",
       "    .dataframe tbody tr th:only-of-type {\n",
       "        vertical-align: middle;\n",
       "    }\n",
       "\n",
       "    .dataframe tbody tr th {\n",
       "        vertical-align: top;\n",
       "    }\n",
       "\n",
       "    .dataframe thead th {\n",
       "        text-align: right;\n",
       "    }\n",
       "</style>\n",
       "<table border=\"1\" class=\"dataframe\">\n",
       "  <thead>\n",
       "    <tr style=\"text-align: right;\">\n",
       "      <th></th>\n",
       "      <th>Tweet ID</th>\n",
       "      <th>Username</th>\n",
       "      <th>Timestamp</th>\n",
       "      <th>#Followers</th>\n",
       "      <th>#Friends</th>\n",
       "      <th>#Retweets</th>\n",
       "      <th>#Favorites</th>\n",
       "      <th>Entities</th>\n",
       "      <th>Sentiment</th>\n",
       "      <th>Mentions</th>\n",
       "      <th>Hashtags</th>\n",
       "      <th>URLs</th>\n",
       "    </tr>\n",
       "  </thead>\n",
       "  <tbody>\n",
       "    <tr>\n",
       "      <th>0</th>\n",
       "      <td>1178791787386814465</td>\n",
       "      <td>35234fe4a19cc1a3336095fb3780bcc1</td>\n",
       "      <td>Mon Sep 30 22:00:37 +0000 2019</td>\n",
       "      <td>619</td>\n",
       "      <td>770</td>\n",
       "      <td>0</td>\n",
       "      <td>0</td>\n",
       "      <td>null;</td>\n",
       "      <td>2 -1</td>\n",
       "      <td>null;</td>\n",
       "      <td>null;</td>\n",
       "      <td>null;</td>\n",
       "    </tr>\n",
       "    <tr>\n",
       "      <th>1</th>\n",
       "      <td>1178791985106153472</td>\n",
       "      <td>ea4592f39636d87af8fb4b17b7e2e4c0</td>\n",
       "      <td>Mon Sep 30 22:01:24 +0000 2019</td>\n",
       "      <td>36365</td>\n",
       "      <td>19344</td>\n",
       "      <td>13</td>\n",
       "      <td>17</td>\n",
       "      <td>nazi:Nazism:-2.742538749414189;blood money:Blo...</td>\n",
       "      <td>1 -4</td>\n",
       "      <td>null;</td>\n",
       "      <td>null;</td>\n",
       "      <td>https://twitter.com/himalayahawk/status/117766...</td>\n",
       "    </tr>\n",
       "    <tr>\n",
       "      <th>2</th>\n",
       "      <td>1178793230223183872</td>\n",
       "      <td>bf05d1888dd974fa4a8679c25e2ead03</td>\n",
       "      <td>Mon Sep 30 22:06:21 +0000 2019</td>\n",
       "      <td>5018</td>\n",
       "      <td>1933</td>\n",
       "      <td>0</td>\n",
       "      <td>0</td>\n",
       "      <td>vaccine:Vaccine:-2.6651530673745762;anti vaxxe...</td>\n",
       "      <td>2 -1</td>\n",
       "      <td>null;</td>\n",
       "      <td>null;</td>\n",
       "      <td>https://goo.gl/fb/uoeiPk:-:</td>\n",
       "    </tr>\n",
       "    <tr>\n",
       "      <th>3</th>\n",
       "      <td>1178795172206919680</td>\n",
       "      <td>eb8a99bca8945eab1d006750e9b75518</td>\n",
       "      <td>Mon Sep 30 22:14:04 +0000 2019</td>\n",
       "      <td>2219</td>\n",
       "      <td>971</td>\n",
       "      <td>0</td>\n",
       "      <td>0</td>\n",
       "      <td>muse:Muse_%28band%29:-2.1677823918620867;talki...</td>\n",
       "      <td>2 -1</td>\n",
       "      <td>null;</td>\n",
       "      <td>null;</td>\n",
       "      <td>null;</td>\n",
       "    </tr>\n",
       "    <tr>\n",
       "      <th>4</th>\n",
       "      <td>1178798309491822592</td>\n",
       "      <td>00695cf79d60e86a5d0f872f4358337a</td>\n",
       "      <td>Mon Sep 30 22:26:32 +0000 2019</td>\n",
       "      <td>9009</td>\n",
       "      <td>4943</td>\n",
       "      <td>26</td>\n",
       "      <td>89</td>\n",
       "      <td>people of northern ireland:People_of_Northern_...</td>\n",
       "      <td>2 -1</td>\n",
       "      <td>null;</td>\n",
       "      <td>VFS</td>\n",
       "      <td>null;</td>\n",
       "    </tr>\n",
       "  </tbody>\n",
       "</table>\n",
       "</div>"
      ],
      "text/plain": [
       "              Tweet ID                          Username  \\\n",
       "0  1178791787386814465  35234fe4a19cc1a3336095fb3780bcc1   \n",
       "1  1178791985106153472  ea4592f39636d87af8fb4b17b7e2e4c0   \n",
       "2  1178793230223183872  bf05d1888dd974fa4a8679c25e2ead03   \n",
       "3  1178795172206919680  eb8a99bca8945eab1d006750e9b75518   \n",
       "4  1178798309491822592  00695cf79d60e86a5d0f872f4358337a   \n",
       "\n",
       "                        Timestamp  #Followers  #Friends  #Retweets  \\\n",
       "0  Mon Sep 30 22:00:37 +0000 2019         619       770          0   \n",
       "1  Mon Sep 30 22:01:24 +0000 2019       36365     19344         13   \n",
       "2  Mon Sep 30 22:06:21 +0000 2019        5018      1933          0   \n",
       "3  Mon Sep 30 22:14:04 +0000 2019        2219       971          0   \n",
       "4  Mon Sep 30 22:26:32 +0000 2019        9009      4943         26   \n",
       "\n",
       "   #Favorites                                           Entities Sentiment  \\\n",
       "0           0                                              null;      2 -1   \n",
       "1          17  nazi:Nazism:-2.742538749414189;blood money:Blo...      1 -4   \n",
       "2           0  vaccine:Vaccine:-2.6651530673745762;anti vaxxe...      2 -1   \n",
       "3           0  muse:Muse_%28band%29:-2.1677823918620867;talki...      2 -1   \n",
       "4          89  people of northern ireland:People_of_Northern_...      2 -1   \n",
       "\n",
       "  Mentions Hashtags                                               URLs  \n",
       "0    null;    null;                                              null;  \n",
       "1    null;    null;  https://twitter.com/himalayahawk/status/117766...  \n",
       "2    null;    null;                        https://goo.gl/fb/uoeiPk:-:  \n",
       "3    null;    null;                                              null;  \n",
       "4    null;      VFS                                              null;  "
      ]
     },
     "execution_count": 3,
     "metadata": {},
     "output_type": "execute_result"
    }
   ],
   "source": [
    "tweets.head()"
   ]
  },
  {
   "cell_type": "code",
   "execution_count": 4,
   "metadata": {},
   "outputs": [],
   "source": [
    "# break out sentiment variable into positive and negative\n",
    "tweets['Positive']=tweets['Sentiment'].str.slice(0, 1).astype(int)\n",
    "tweets['Negative']=tweets['Sentiment'].str.slice(-2).astype(int)"
   ]
  },
  {
   "cell_type": "code",
   "execution_count": 5,
   "metadata": {},
   "outputs": [],
   "source": [
    "# analyze the mentions column \n",
    "men=tweets['Mentions'].dropna(axis=0).str.split()"
   ]
  },
  {
   "cell_type": "code",
   "execution_count": 6,
   "metadata": {},
   "outputs": [],
   "source": [
    "# create list of lists for each item in a mention for each tweet \n",
    "mentions=[i.strip().upper() for i in list(itertools.chain.from_iterable(men.to_list())) if 'null' not in i]"
   ]
  },
  {
   "cell_type": "code",
   "execution_count": 7,
   "metadata": {},
   "outputs": [],
   "source": [
    "# create a dictionary to store all mentions that appeared over 10 times\n",
    "mentions_dict={x: count for x, count in Counter(mentions).items() if count >=10}"
   ]
  },
  {
   "cell_type": "code",
   "execution_count": 8,
   "metadata": {},
   "outputs": [
    {
     "data": {
      "text/plain": [
       "['REALDONALDTRUMP',\n",
       " 'JAKETAPPER',\n",
       " 'BTS_TWT',\n",
       " 'POTUS',\n",
       " 'YOUTUBE',\n",
       " 'CNN',\n",
       " 'NBA',\n",
       " 'SPEAKERPELOSI',\n",
       " 'GOP',\n",
       " 'LINDSEYGRAHAMSC']"
      ]
     },
     "execution_count": 8,
     "metadata": {},
     "output_type": "execute_result"
    }
   ],
   "source": [
    "# take a look at the highest count mentions (top 10) and store in a list \n",
    "top_mentions=sorted(mentions_dict, key=mentions_dict.get, reverse=True)[:10]\n",
    "top_mentions"
   ]
  },
  {
   "cell_type": "code",
   "execution_count": 9,
   "metadata": {},
   "outputs": [],
   "source": [
    "# analyze the hashtag column\n",
    "hsh=tweets['Hashtags'].dropna(axis=0).str.split()"
   ]
  },
  {
   "cell_type": "code",
   "execution_count": 10,
   "metadata": {},
   "outputs": [],
   "source": [
    "hashtags=[i.strip().upper() for i in list(itertools.chain.from_iterable(hsh.to_list())) if 'null' not in i]"
   ]
  },
  {
   "cell_type": "code",
   "execution_count": 11,
   "metadata": {},
   "outputs": [],
   "source": [
    "hashtags_dict={x: count for x, count in Counter(hashtags).items() if count >=10 and x not in top_mentions}"
   ]
  },
  {
   "cell_type": "code",
   "execution_count": 12,
   "metadata": {},
   "outputs": [
    {
     "data": {
      "text/plain": [
       "['CHINA',\n",
       " 'HEALTHCARE',\n",
       " 'HONGKONG',\n",
       " 'HONGKONGPROTESTS',\n",
       " 'STANDWITHHONGKONG',\n",
       " 'CHINAZI',\n",
       " 'STRONGERTOGETHER',\n",
       " 'ANTICHINAZI',\n",
       " 'ANTIMASKLAW',\n",
       " 'IMPEACHTRUMPPENCEBARRPOMPEO']"
      ]
     },
     "execution_count": 12,
     "metadata": {},
     "output_type": "execute_result"
    }
   ],
   "source": [
    "top_hashtags=sorted(hashtags_dict, key=hashtags_dict.get, reverse=True)[:10]\n",
    "top_hashtags"
   ]
  },
  {
   "cell_type": "code",
   "execution_count": 13,
   "metadata": {},
   "outputs": [],
   "source": [
    "# create a variable for the # create variable for # of mentions for each tweet, excluding those that have 'null' in the mentions column\n",
    "tweets['#Mentions']=tweets[(tweets['Mentions'].isnull()==False) & (tweets['Mentions'].str.contains('null')==False)]['Mentions'].str.split().apply(len)"
   ]
  },
  {
   "cell_type": "code",
   "execution_count": 14,
   "metadata": {},
   "outputs": [],
   "source": [
    "tweets['#Mentions'].fillna(0, inplace=True)"
   ]
  },
  {
   "cell_type": "code",
   "execution_count": 15,
   "metadata": {},
   "outputs": [
    {
     "data": {
      "text/plain": [
       "0        0.0\n",
       "1        0.0\n",
       "2        0.0\n",
       "3        0.0\n",
       "4        0.0\n",
       "        ... \n",
       "99995    1.0\n",
       "99996    1.0\n",
       "99997    0.0\n",
       "99998    0.0\n",
       "99999    0.0\n",
       "Name: #Mentions, Length: 100000, dtype: float64"
      ]
     },
     "execution_count": 15,
     "metadata": {},
     "output_type": "execute_result"
    }
   ],
   "source": [
    "tweets['#Mentions']"
   ]
  },
  {
   "cell_type": "code",
   "execution_count": 16,
   "metadata": {},
   "outputs": [],
   "source": [
    "# similarly, create # of hashtags for each tweet, excluding those with 'null'\n",
    "tweets['#Hashtags']=tweets[(tweets['Hashtags'].isnull()==False) & (tweets['Hashtags'].str.contains('null')==False)]['Hashtags'].str.split().apply(len)"
   ]
  },
  {
   "cell_type": "code",
   "execution_count": 17,
   "metadata": {},
   "outputs": [],
   "source": [
    "tweets['#Hashtags'].fillna(0, inplace=True)"
   ]
  },
  {
   "cell_type": "code",
   "execution_count": 18,
   "metadata": {},
   "outputs": [
    {
     "data": {
      "text/plain": [
       "Tweet ID        0\n",
       "Username        0\n",
       "Timestamp       0\n",
       "#Followers      0\n",
       "#Friends        0\n",
       "#Retweets       0\n",
       "#Favorites      0\n",
       "Entities        0\n",
       "Sentiment       0\n",
       "Mentions      233\n",
       "Hashtags       31\n",
       "URLs            0\n",
       "Positive        0\n",
       "Negative        0\n",
       "#Mentions       0\n",
       "#Hashtags       0\n",
       "dtype: int64"
      ]
     },
     "execution_count": 18,
     "metadata": {},
     "output_type": "execute_result"
    }
   ],
   "source": [
    "# check for missing values\n",
    "tweets.isnull().sum()"
   ]
  },
  {
   "cell_type": "code",
   "execution_count": 19,
   "metadata": {},
   "outputs": [],
   "source": [
    "# for missing hashtags or tweets, fill with blank string \n",
    "tweets['Hashtags'].fillna('', inplace=True)\n",
    "tweets['Mentions'].fillna('', inplace=True)"
   ]
  },
  {
   "cell_type": "markdown",
   "metadata": {},
   "source": [
    "#### Exploratory data analysis "
   ]
  },
  {
   "cell_type": "code",
   "execution_count": 20,
   "metadata": {},
   "outputs": [
    {
     "data": {
      "image/png": "[encoded data removed]",
      "text/plain": [
       "<Figure size 432x288 with 1 Axes>"
      ]
     },
     "metadata": {
      "needs_background": "light"
     },
     "output_type": "display_data"
    }
   ],
   "source": [
    "# plot the distribution of # of followers (log)\n",
    "ax1=np.log10(tweets['#Followers']+1).plot(kind='hist', bins=30, edgecolor='w', title=\"Log Distribution of # of Followers\")"
   ]
  },
  {
   "cell_type": "code",
   "execution_count": 21,
   "metadata": {},
   "outputs": [
    {
     "data": {
      "text/plain": [
       "<matplotlib.axes._subplots.AxesSubplot at 0x1e42e71b288>"
      ]
     },
     "execution_count": 21,
     "metadata": {},
     "output_type": "execute_result"
    },
    {
     "data": {
      "image/png": "[encoded data removed]",
      "text/plain": [
       "<Figure size 432x288 with 1 Axes>"
      ]
     },
     "metadata": {
      "needs_background": "light"
     },
     "output_type": "display_data"
    }
   ],
   "source": [
    "# distribution of # of friends (log)\n",
    "np.log10(tweets['#Friends']+1).plot(kind='hist', bins=30, edgecolor='w', title='Log Distribution of # of Friends')"
   ]
  },
  {
   "cell_type": "code",
   "execution_count": 22,
   "metadata": {},
   "outputs": [
    {
     "data": {
      "text/plain": [
       "<matplotlib.axes._subplots.AxesSubplot at 0x1e42eb8e708>"
      ]
     },
     "execution_count": 22,
     "metadata": {},
     "output_type": "execute_result"
    },
    {
     "data": {
      "image/png": "[encoded data removed]",
      "text/plain": [
       "<Figure size 432x288 with 1 Axes>"
      ]
     },
     "metadata": {
      "needs_background": "light"
     },
     "output_type": "display_data"
    }
   ],
   "source": [
    "# distribution of # of favorites (log)\n",
    "np.log10(tweets['#Favorites']+1).plot(kind='hist', bins=30, edgecolor='w', title='Log Distribution of # of Favorites')"
   ]
  },
  {
   "cell_type": "code",
   "execution_count": 23,
   "metadata": {},
   "outputs": [
    {
     "data": {
      "text/plain": [
       "<matplotlib.axes._subplots.AxesSubplot at 0x1e42ec50388>"
      ]
     },
     "execution_count": 23,
     "metadata": {},
     "output_type": "execute_result"
    },
    {
     "data": {
      "image/png": "[encoded data removed]",
      "text/plain": [
       "<Figure size 432x288 with 1 Axes>"
      ]
     },
     "metadata": {
      "needs_background": "light"
     },
     "output_type": "display_data"
    }
   ],
   "source": [
    "# distribution of # of favorites (log) without zeros \n",
    "np.log10(tweets['#Favorites'].replace(0, np.nan)).plot(kind='hist', bins=30, edgecolor='w', title='Log Distribution of # of Favorites')"
   ]
  },
  {
   "cell_type": "code",
   "execution_count": 24,
   "metadata": {},
   "outputs": [
    {
     "data": {
      "text/html": [
       "<div>\n",
       "<style scoped>\n",
       "    .dataframe tbody tr th:only-of-type {\n",
       "        vertical-align: middle;\n",
       "    }\n",
       "\n",
       "    .dataframe tbody tr th {\n",
       "        vertical-align: top;\n",
       "    }\n",
       "\n",
       "    .dataframe thead th {\n",
       "        text-align: right;\n",
       "    }\n",
       "</style>\n",
       "<table border=\"1\" class=\"dataframe\">\n",
       "  <thead>\n",
       "    <tr style=\"text-align: right;\">\n",
       "      <th></th>\n",
       "      <th>#Favorites</th>\n",
       "      <th>#Followers</th>\n",
       "      <th>#Friends</th>\n",
       "      <th>Positive</th>\n",
       "      <th>Negative</th>\n",
       "      <th>#Retweets</th>\n",
       "    </tr>\n",
       "  </thead>\n",
       "  <tbody>\n",
       "    <tr>\n",
       "      <th>#Favorites</th>\n",
       "      <td>1.000000</td>\n",
       "      <td>0.172158</td>\n",
       "      <td>0.017877</td>\n",
       "      <td>0.002533</td>\n",
       "      <td>-0.003889</td>\n",
       "      <td>0.890328</td>\n",
       "    </tr>\n",
       "    <tr>\n",
       "      <th>#Followers</th>\n",
       "      <td>0.172158</td>\n",
       "      <td>1.000000</td>\n",
       "      <td>0.011337</td>\n",
       "      <td>-0.027071</td>\n",
       "      <td>0.008711</td>\n",
       "      <td>0.134503</td>\n",
       "    </tr>\n",
       "    <tr>\n",
       "      <th>#Friends</th>\n",
       "      <td>0.017877</td>\n",
       "      <td>0.011337</td>\n",
       "      <td>1.000000</td>\n",
       "      <td>-0.000555</td>\n",
       "      <td>-0.007891</td>\n",
       "      <td>0.026502</td>\n",
       "    </tr>\n",
       "    <tr>\n",
       "      <th>Positive</th>\n",
       "      <td>0.002533</td>\n",
       "      <td>-0.027071</td>\n",
       "      <td>-0.000555</td>\n",
       "      <td>1.000000</td>\n",
       "      <td>-0.039849</td>\n",
       "      <td>0.000433</td>\n",
       "    </tr>\n",
       "    <tr>\n",
       "      <th>Negative</th>\n",
       "      <td>-0.003889</td>\n",
       "      <td>0.008711</td>\n",
       "      <td>-0.007891</td>\n",
       "      <td>-0.039849</td>\n",
       "      <td>1.000000</td>\n",
       "      <td>-0.010565</td>\n",
       "    </tr>\n",
       "    <tr>\n",
       "      <th>#Retweets</th>\n",
       "      <td>0.890328</td>\n",
       "      <td>0.134503</td>\n",
       "      <td>0.026502</td>\n",
       "      <td>0.000433</td>\n",
       "      <td>-0.010565</td>\n",
       "      <td>1.000000</td>\n",
       "    </tr>\n",
       "  </tbody>\n",
       "</table>\n",
       "</div>"
      ],
      "text/plain": [
       "            #Favorites  #Followers  #Friends  Positive  Negative  #Retweets\n",
       "#Favorites    1.000000    0.172158  0.017877  0.002533 -0.003889   0.890328\n",
       "#Followers    0.172158    1.000000  0.011337 -0.027071  0.008711   0.134503\n",
       "#Friends      0.017877    0.011337  1.000000 -0.000555 -0.007891   0.026502\n",
       "Positive      0.002533   -0.027071 -0.000555  1.000000 -0.039849   0.000433\n",
       "Negative     -0.003889    0.008711 -0.007891 -0.039849  1.000000  -0.010565\n",
       "#Retweets     0.890328    0.134503  0.026502  0.000433 -0.010565   1.000000"
      ]
     },
     "execution_count": 24,
     "metadata": {},
     "output_type": "execute_result"
    }
   ],
   "source": [
    "corr=tweets[['#Favorites', '#Followers', '#Friends', 'Positive', 'Negative', '#Retweets']].corr()\n",
    "corr"
   ]
  },
  {
   "cell_type": "code",
   "execution_count": 25,
   "metadata": {},
   "outputs": [
    {
     "data": {
      "text/plain": [
       "<matplotlib.axes._subplots.AxesSubplot at 0x1e42ed2b988>"
      ]
     },
     "execution_count": 25,
     "metadata": {},
     "output_type": "execute_result"
    },
    {
     "data": {
      "image/png": "[encoded data removed]",
      "text/plain": [
       "<Figure size 792x648 with 2 Axes>"
      ]
     },
     "metadata": {
      "needs_background": "light"
     },
     "output_type": "display_data"
    }
   ],
   "source": [
    "# visualize correlation matrix\n",
    "# Generate a mask for the upper triangle\n",
    "mask = np.zeros_like(corr, dtype=np.bool)\n",
    "mask[np.triu_indices_from(mask)] = True\n",
    "\n",
    "f, ax = plt.subplots(figsize=(11, 9))\n",
    "\n",
    "# Generate a custom diverging colormap\n",
    "cmap = sns.diverging_palette(220, 10, as_cmap=True)\n",
    "\n",
    "ax.set_title('Correlation Matrix')\n",
    "\n",
    "# Draw the heatmap with the mask and correct aspect ratio\n",
    "sns.heatmap(corr, mask=mask, cmap=cmap, center=0.1,\n",
    "            square=True, linewidths=.3)"
   ]
  },
  {
   "cell_type": "markdown",
   "metadata": {},
   "source": [
    "#### Further prepare data; feature engineering"
   ]
  },
  {
   "cell_type": "code",
   "execution_count": 26,
   "metadata": {},
   "outputs": [],
   "source": [
    "# hot encode dummy variables for top mentions\n",
    "for i in top_mentions:\n",
    "    tweets[i]=0\n",
    "    tweets.loc[tweets['Mentions'].str.upper().str.contains(i), i]=1"
   ]
  },
  {
   "cell_type": "code",
   "execution_count": 27,
   "metadata": {},
   "outputs": [
    {
     "data": {
      "text/html": [
       "<div>\n",
       "<style scoped>\n",
       "    .dataframe tbody tr th:only-of-type {\n",
       "        vertical-align: middle;\n",
       "    }\n",
       "\n",
       "    .dataframe tbody tr th {\n",
       "        vertical-align: top;\n",
       "    }\n",
       "\n",
       "    .dataframe thead th {\n",
       "        text-align: right;\n",
       "    }\n",
       "</style>\n",
       "<table border=\"1\" class=\"dataframe\">\n",
       "  <thead>\n",
       "    <tr style=\"text-align: right;\">\n",
       "      <th></th>\n",
       "      <th>Tweet ID</th>\n",
       "      <th>Username</th>\n",
       "      <th>Timestamp</th>\n",
       "      <th>#Followers</th>\n",
       "      <th>#Friends</th>\n",
       "      <th>#Retweets</th>\n",
       "      <th>#Favorites</th>\n",
       "      <th>Entities</th>\n",
       "      <th>Sentiment</th>\n",
       "      <th>Mentions</th>\n",
       "      <th>...</th>\n",
       "      <th>REALDONALDTRUMP</th>\n",
       "      <th>JAKETAPPER</th>\n",
       "      <th>BTS_TWT</th>\n",
       "      <th>POTUS</th>\n",
       "      <th>YOUTUBE</th>\n",
       "      <th>CNN</th>\n",
       "      <th>NBA</th>\n",
       "      <th>SPEAKERPELOSI</th>\n",
       "      <th>GOP</th>\n",
       "      <th>LINDSEYGRAHAMSC</th>\n",
       "    </tr>\n",
       "  </thead>\n",
       "  <tbody>\n",
       "    <tr>\n",
       "      <th>44</th>\n",
       "      <td>1178839076235042816</td>\n",
       "      <td>796ba585fdd57b9845a6b8f2e255b295</td>\n",
       "      <td>Tue Oct 01 01:08:32 +0000 2019</td>\n",
       "      <td>3044</td>\n",
       "      <td>1649</td>\n",
       "      <td>15</td>\n",
       "      <td>37</td>\n",
       "      <td>kayleigh:Kayleigh:-2.594869369680897;</td>\n",
       "      <td>1 -1</td>\n",
       "      <td>ScottPresler realDonaldTrump parscale kayleigh...</td>\n",
       "      <td>...</td>\n",
       "      <td>1</td>\n",
       "      <td>0</td>\n",
       "      <td>0</td>\n",
       "      <td>0</td>\n",
       "      <td>0</td>\n",
       "      <td>0</td>\n",
       "      <td>0</td>\n",
       "      <td>0</td>\n",
       "      <td>0</td>\n",
       "      <td>0</td>\n",
       "    </tr>\n",
       "    <tr>\n",
       "      <th>48</th>\n",
       "      <td>1178840722323066881</td>\n",
       "      <td>5bb9389f949f92d932ec0d9e16c2d775</td>\n",
       "      <td>Tue Oct 01 01:15:04 +0000 2019</td>\n",
       "      <td>744</td>\n",
       "      <td>781</td>\n",
       "      <td>0</td>\n",
       "      <td>0</td>\n",
       "      <td>null;</td>\n",
       "      <td>2 -1</td>\n",
       "      <td>realDonaldTrump</td>\n",
       "      <td>...</td>\n",
       "      <td>1</td>\n",
       "      <td>0</td>\n",
       "      <td>0</td>\n",
       "      <td>0</td>\n",
       "      <td>0</td>\n",
       "      <td>0</td>\n",
       "      <td>0</td>\n",
       "      <td>0</td>\n",
       "      <td>0</td>\n",
       "      <td>0</td>\n",
       "    </tr>\n",
       "    <tr>\n",
       "      <th>115</th>\n",
       "      <td>1178915942987747329</td>\n",
       "      <td>7db56f4d8c0583e6427a2a68bb8a4fd3</td>\n",
       "      <td>Tue Oct 01 06:13:58 +0000 2019</td>\n",
       "      <td>2602</td>\n",
       "      <td>3228</td>\n",
       "      <td>0</td>\n",
       "      <td>0</td>\n",
       "      <td>military parade:Military_parade:-1.91983861118...</td>\n",
       "      <td>1 -1</td>\n",
       "      <td>WSJ realDonaldTrump’s</td>\n",
       "      <td>...</td>\n",
       "      <td>1</td>\n",
       "      <td>0</td>\n",
       "      <td>0</td>\n",
       "      <td>0</td>\n",
       "      <td>0</td>\n",
       "      <td>0</td>\n",
       "      <td>0</td>\n",
       "      <td>0</td>\n",
       "      <td>0</td>\n",
       "      <td>0</td>\n",
       "    </tr>\n",
       "    <tr>\n",
       "      <th>117</th>\n",
       "      <td>1178916395943227394</td>\n",
       "      <td>4d63e951225790bde12399132edad552</td>\n",
       "      <td>Tue Oct 01 06:15:46 +0000 2019</td>\n",
       "      <td>34</td>\n",
       "      <td>125</td>\n",
       "      <td>0</td>\n",
       "      <td>0</td>\n",
       "      <td>makes me wonder:Makes_Me_Wonder:-1.20345439249...</td>\n",
       "      <td>1 -2</td>\n",
       "      <td>Snow_Flake2017 polamalurules43 PikachuSerena r...</td>\n",
       "      <td>...</td>\n",
       "      <td>1</td>\n",
       "      <td>0</td>\n",
       "      <td>0</td>\n",
       "      <td>0</td>\n",
       "      <td>0</td>\n",
       "      <td>0</td>\n",
       "      <td>0</td>\n",
       "      <td>0</td>\n",
       "      <td>0</td>\n",
       "      <td>0</td>\n",
       "    </tr>\n",
       "    <tr>\n",
       "      <th>144</th>\n",
       "      <td>1178952806704783360</td>\n",
       "      <td>01f7401a1bf8df4ecebe2e607c68a1a2</td>\n",
       "      <td>Tue Oct 01 08:40:27 +0000 2019</td>\n",
       "      <td>12</td>\n",
       "      <td>10</td>\n",
       "      <td>0</td>\n",
       "      <td>0</td>\n",
       "      <td>nicotine:Nicotine:-1.974112453329532;thc:Tetra...</td>\n",
       "      <td>2 -3</td>\n",
       "      <td>realDonaldTrump</td>\n",
       "      <td>...</td>\n",
       "      <td>1</td>\n",
       "      <td>0</td>\n",
       "      <td>0</td>\n",
       "      <td>0</td>\n",
       "      <td>0</td>\n",
       "      <td>0</td>\n",
       "      <td>0</td>\n",
       "      <td>0</td>\n",
       "      <td>0</td>\n",
       "      <td>0</td>\n",
       "    </tr>\n",
       "    <tr>\n",
       "      <th>...</th>\n",
       "      <td>...</td>\n",
       "      <td>...</td>\n",
       "      <td>...</td>\n",
       "      <td>...</td>\n",
       "      <td>...</td>\n",
       "      <td>...</td>\n",
       "      <td>...</td>\n",
       "      <td>...</td>\n",
       "      <td>...</td>\n",
       "      <td>...</td>\n",
       "      <td>...</td>\n",
       "      <td>...</td>\n",
       "      <td>...</td>\n",
       "      <td>...</td>\n",
       "      <td>...</td>\n",
       "      <td>...</td>\n",
       "      <td>...</td>\n",
       "      <td>...</td>\n",
       "      <td>...</td>\n",
       "      <td>...</td>\n",
       "      <td>...</td>\n",
       "    </tr>\n",
       "    <tr>\n",
       "      <th>99896</th>\n",
       "      <td>1179468089529733120</td>\n",
       "      <td>27b1e9d18a530817c463043cbcfd52a6</td>\n",
       "      <td>Wed Oct 02 18:48:00 +0000 2019</td>\n",
       "      <td>704</td>\n",
       "      <td>3212</td>\n",
       "      <td>0</td>\n",
       "      <td>0</td>\n",
       "      <td>null;</td>\n",
       "      <td>2 -1</td>\n",
       "      <td>realDonaldTrump LindseyGrahamSC</td>\n",
       "      <td>...</td>\n",
       "      <td>1</td>\n",
       "      <td>0</td>\n",
       "      <td>0</td>\n",
       "      <td>0</td>\n",
       "      <td>0</td>\n",
       "      <td>0</td>\n",
       "      <td>0</td>\n",
       "      <td>0</td>\n",
       "      <td>0</td>\n",
       "      <td>1</td>\n",
       "    </tr>\n",
       "    <tr>\n",
       "      <th>99933</th>\n",
       "      <td>1179497465353035777</td>\n",
       "      <td>9bbac1b6b3a1c69ee40fe9842bedbaf1</td>\n",
       "      <td>Wed Oct 02 20:44:44 +0000 2019</td>\n",
       "      <td>1484</td>\n",
       "      <td>1192</td>\n",
       "      <td>1</td>\n",
       "      <td>0</td>\n",
       "      <td>null;</td>\n",
       "      <td>1 -4</td>\n",
       "      <td>realDonaldTrump TheDemocrats</td>\n",
       "      <td>...</td>\n",
       "      <td>1</td>\n",
       "      <td>0</td>\n",
       "      <td>0</td>\n",
       "      <td>0</td>\n",
       "      <td>0</td>\n",
       "      <td>0</td>\n",
       "      <td>0</td>\n",
       "      <td>0</td>\n",
       "      <td>0</td>\n",
       "      <td>0</td>\n",
       "    </tr>\n",
       "    <tr>\n",
       "      <th>99940</th>\n",
       "      <td>1179504647083442176</td>\n",
       "      <td>9091caa0c6b895e89c4b2f6eafa6bb59</td>\n",
       "      <td>Wed Oct 02 21:13:16 +0000 2019</td>\n",
       "      <td>196</td>\n",
       "      <td>605</td>\n",
       "      <td>0</td>\n",
       "      <td>0</td>\n",
       "      <td>ivanka trump:Ivanka_Trump:-0.9067480565627685;</td>\n",
       "      <td>1 -3</td>\n",
       "      <td>realDonaldTrump</td>\n",
       "      <td>...</td>\n",
       "      <td>1</td>\n",
       "      <td>0</td>\n",
       "      <td>0</td>\n",
       "      <td>0</td>\n",
       "      <td>0</td>\n",
       "      <td>0</td>\n",
       "      <td>0</td>\n",
       "      <td>0</td>\n",
       "      <td>0</td>\n",
       "      <td>0</td>\n",
       "    </tr>\n",
       "    <tr>\n",
       "      <th>99956</th>\n",
       "      <td>1179517695584276480</td>\n",
       "      <td>84ef473f81942797613eb5a06d73705a</td>\n",
       "      <td>Wed Oct 02 22:05:07 +0000 2019</td>\n",
       "      <td>479</td>\n",
       "      <td>925</td>\n",
       "      <td>0</td>\n",
       "      <td>0</td>\n",
       "      <td>hey there:Hey_There:-2.393598594279745;potus:P...</td>\n",
       "      <td>2 -2</td>\n",
       "      <td>realDonaldTrump potus.</td>\n",
       "      <td>...</td>\n",
       "      <td>1</td>\n",
       "      <td>0</td>\n",
       "      <td>0</td>\n",
       "      <td>1</td>\n",
       "      <td>0</td>\n",
       "      <td>0</td>\n",
       "      <td>0</td>\n",
       "      <td>0</td>\n",
       "      <td>0</td>\n",
       "      <td>0</td>\n",
       "    </tr>\n",
       "    <tr>\n",
       "      <th>99994</th>\n",
       "      <td>1179545671554105344</td>\n",
       "      <td>b63bd1026e0c3c09acbe97aabdf265d5</td>\n",
       "      <td>Wed Oct 02 23:56:17 +0000 2019</td>\n",
       "      <td>2392</td>\n",
       "      <td>4749</td>\n",
       "      <td>1</td>\n",
       "      <td>0</td>\n",
       "      <td>null;</td>\n",
       "      <td>2 -1</td>\n",
       "      <td>realDonaldTrump</td>\n",
       "      <td>...</td>\n",
       "      <td>1</td>\n",
       "      <td>0</td>\n",
       "      <td>0</td>\n",
       "      <td>0</td>\n",
       "      <td>0</td>\n",
       "      <td>0</td>\n",
       "      <td>0</td>\n",
       "      <td>0</td>\n",
       "      <td>0</td>\n",
       "      <td>0</td>\n",
       "    </tr>\n",
       "  </tbody>\n",
       "</table>\n",
       "<p>1769 rows × 26 columns</p>\n",
       "</div>"
      ],
      "text/plain": [
       "                  Tweet ID                          Username  \\\n",
       "44     1178839076235042816  796ba585fdd57b9845a6b8f2e255b295   \n",
       "48     1178840722323066881  5bb9389f949f92d932ec0d9e16c2d775   \n",
       "115    1178915942987747329  7db56f4d8c0583e6427a2a68bb8a4fd3   \n",
       "117    1178916395943227394  4d63e951225790bde12399132edad552   \n",
       "144    1178952806704783360  01f7401a1bf8df4ecebe2e607c68a1a2   \n",
       "...                    ...                               ...   \n",
       "99896  1179468089529733120  27b1e9d18a530817c463043cbcfd52a6   \n",
       "99933  1179497465353035777  9bbac1b6b3a1c69ee40fe9842bedbaf1   \n",
       "99940  1179504647083442176  9091caa0c6b895e89c4b2f6eafa6bb59   \n",
       "99956  1179517695584276480  84ef473f81942797613eb5a06d73705a   \n",
       "99994  1179545671554105344  b63bd1026e0c3c09acbe97aabdf265d5   \n",
       "\n",
       "                            Timestamp  #Followers  #Friends  #Retweets  \\\n",
       "44     Tue Oct 01 01:08:32 +0000 2019        3044      1649         15   \n",
       "48     Tue Oct 01 01:15:04 +0000 2019         744       781          0   \n",
       "115    Tue Oct 01 06:13:58 +0000 2019        2602      3228          0   \n",
       "117    Tue Oct 01 06:15:46 +0000 2019          34       125          0   \n",
       "144    Tue Oct 01 08:40:27 +0000 2019          12        10          0   \n",
       "...                               ...         ...       ...        ...   \n",
       "99896  Wed Oct 02 18:48:00 +0000 2019         704      3212          0   \n",
       "99933  Wed Oct 02 20:44:44 +0000 2019        1484      1192          1   \n",
       "99940  Wed Oct 02 21:13:16 +0000 2019         196       605          0   \n",
       "99956  Wed Oct 02 22:05:07 +0000 2019         479       925          0   \n",
       "99994  Wed Oct 02 23:56:17 +0000 2019        2392      4749          1   \n",
       "\n",
       "       #Favorites                                           Entities  \\\n",
       "44             37              kayleigh:Kayleigh:-2.594869369680897;   \n",
       "48              0                                              null;   \n",
       "115             0  military parade:Military_parade:-1.91983861118...   \n",
       "117             0  makes me wonder:Makes_Me_Wonder:-1.20345439249...   \n",
       "144             0  nicotine:Nicotine:-1.974112453329532;thc:Tetra...   \n",
       "...           ...                                                ...   \n",
       "99896           0                                              null;   \n",
       "99933           0                                              null;   \n",
       "99940           0     ivanka trump:Ivanka_Trump:-0.9067480565627685;   \n",
       "99956           0  hey there:Hey_There:-2.393598594279745;potus:P...   \n",
       "99994           0                                              null;   \n",
       "\n",
       "      Sentiment                                           Mentions  ...  \\\n",
       "44         1 -1  ScottPresler realDonaldTrump parscale kayleigh...  ...   \n",
       "48         2 -1                                    realDonaldTrump  ...   \n",
       "115        1 -1                              WSJ realDonaldTrump’s  ...   \n",
       "117        1 -2  Snow_Flake2017 polamalurules43 PikachuSerena r...  ...   \n",
       "144        2 -3                                    realDonaldTrump  ...   \n",
       "...         ...                                                ...  ...   \n",
       "99896      2 -1                    realDonaldTrump LindseyGrahamSC  ...   \n",
       "99933      1 -4                       realDonaldTrump TheDemocrats  ...   \n",
       "99940      1 -3                                    realDonaldTrump  ...   \n",
       "99956      2 -2                             realDonaldTrump potus.  ...   \n",
       "99994      2 -1                                    realDonaldTrump  ...   \n",
       "\n",
       "      REALDONALDTRUMP JAKETAPPER  BTS_TWT  POTUS  YOUTUBE  CNN  NBA  \\\n",
       "44                  1          0        0      0        0    0    0   \n",
       "48                  1          0        0      0        0    0    0   \n",
       "115                 1          0        0      0        0    0    0   \n",
       "117                 1          0        0      0        0    0    0   \n",
       "144                 1          0        0      0        0    0    0   \n",
       "...               ...        ...      ...    ...      ...  ...  ...   \n",
       "99896               1          0        0      0        0    0    0   \n",
       "99933               1          0        0      0        0    0    0   \n",
       "99940               1          0        0      0        0    0    0   \n",
       "99956               1          0        0      1        0    0    0   \n",
       "99994               1          0        0      0        0    0    0   \n",
       "\n",
       "       SPEAKERPELOSI  GOP  LINDSEYGRAHAMSC  \n",
       "44                 0    0                0  \n",
       "48                 0    0                0  \n",
       "115                0    0                0  \n",
       "117                0    0                0  \n",
       "144                0    0                0  \n",
       "...              ...  ...              ...  \n",
       "99896              0    0                1  \n",
       "99933              0    0                0  \n",
       "99940              0    0                0  \n",
       "99956              0    0                0  \n",
       "99994              0    0                0  \n",
       "\n",
       "[1769 rows x 26 columns]"
      ]
     },
     "execution_count": 27,
     "metadata": {},
     "output_type": "execute_result"
    }
   ],
   "source": [
    "tweets[tweets['REALDONALDTRUMP']==1]"
   ]
  },
  {
   "cell_type": "code",
   "execution_count": 28,
   "metadata": {},
   "outputs": [],
   "source": [
    "# hot encode dummy vars for top hashtags\n",
    "for i in top_hashtags:\n",
    "    tweets[i]=0\n",
    "    tweets.loc[tweets['Hashtags'].str.upper().str.contains(i), i]=1"
   ]
  },
  {
   "cell_type": "code",
   "execution_count": 29,
   "metadata": {},
   "outputs": [],
   "source": [
    "# parse day and time information from date \n",
    "tweets['ts']=pd.to_datetime(tweets['Timestamp'])\n",
    "tweets['hour']=tweets['ts'].dt.hour"
   ]
  },
  {
   "cell_type": "code",
   "execution_count": 30,
   "metadata": {},
   "outputs": [],
   "source": [
    "def f(x):\n",
    "    if (x > 6) and (x <= 12):\n",
    "        return 'Morning'\n",
    "    elif (x > 12) and (x <= 16):\n",
    "        return'Afternoon'\n",
    "    elif (x > 16) and (x <= 22) :\n",
    "        return 'Evening'\n",
    "    elif ((x > 22) and (x <= 24)) or ((0 <= x) and (x <= 2)):\n",
    "        return'Night'\n",
    "    elif (x<=6):\n",
    "        return'Early Morning'\n",
    "\n",
    "tweets['time_of_day']=tweets['hour'].apply(f)"
   ]
  },
  {
   "cell_type": "code",
   "execution_count": 31,
   "metadata": {},
   "outputs": [],
   "source": [
    "tweets['day']=tweets['ts'].dt.weekday"
   ]
  },
  {
   "cell_type": "code",
   "execution_count": 32,
   "metadata": {},
   "outputs": [],
   "source": [
    "def d(x):\n",
    "    if (x>=0) and (x<=4):\n",
    "        return 'Weekday'\n",
    "    elif (x>4):\n",
    "        return 'Weekend'\n",
    "    \n",
    "tweets['day_of_wk']=tweets['day'].apply(d)"
   ]
  },
  {
   "cell_type": "code",
   "execution_count": 33,
   "metadata": {
    "scrolled": true
   },
   "outputs": [],
   "source": [
    "tweets=pd.concat([tweets, pd.get_dummies(tweets['day_of_wk']), pd.get_dummies(tweets['time_of_day'])], axis=1)"
   ]
  },
  {
   "cell_type": "code",
   "execution_count": 34,
   "metadata": {},
   "outputs": [
    {
     "data": {
      "text/html": [
       "<div>\n",
       "<style scoped>\n",
       "    .dataframe tbody tr th:only-of-type {\n",
       "        vertical-align: middle;\n",
       "    }\n",
       "\n",
       "    .dataframe tbody tr th {\n",
       "        vertical-align: top;\n",
       "    }\n",
       "\n",
       "    .dataframe thead th {\n",
       "        text-align: right;\n",
       "    }\n",
       "</style>\n",
       "<table border=\"1\" class=\"dataframe\">\n",
       "  <thead>\n",
       "    <tr style=\"text-align: right;\">\n",
       "      <th></th>\n",
       "      <th>Tweet ID</th>\n",
       "      <th>Username</th>\n",
       "      <th>Timestamp</th>\n",
       "      <th>#Followers</th>\n",
       "      <th>#Friends</th>\n",
       "      <th>#Retweets</th>\n",
       "      <th>#Favorites</th>\n",
       "      <th>Entities</th>\n",
       "      <th>Sentiment</th>\n",
       "      <th>Mentions</th>\n",
       "      <th>...</th>\n",
       "      <th>time_of_day</th>\n",
       "      <th>day</th>\n",
       "      <th>day_of_wk</th>\n",
       "      <th>Weekday</th>\n",
       "      <th>Weekend</th>\n",
       "      <th>Afternoon</th>\n",
       "      <th>Early Morning</th>\n",
       "      <th>Evening</th>\n",
       "      <th>Morning</th>\n",
       "      <th>Night</th>\n",
       "    </tr>\n",
       "  </thead>\n",
       "  <tbody>\n",
       "    <tr>\n",
       "      <th>0</th>\n",
       "      <td>1178791787386814465</td>\n",
       "      <td>35234fe4a19cc1a3336095fb3780bcc1</td>\n",
       "      <td>Mon Sep 30 22:00:37 +0000 2019</td>\n",
       "      <td>619</td>\n",
       "      <td>770</td>\n",
       "      <td>0</td>\n",
       "      <td>0</td>\n",
       "      <td>null;</td>\n",
       "      <td>2 -1</td>\n",
       "      <td>null;</td>\n",
       "      <td>...</td>\n",
       "      <td>Evening</td>\n",
       "      <td>0</td>\n",
       "      <td>Weekday</td>\n",
       "      <td>1</td>\n",
       "      <td>0</td>\n",
       "      <td>0</td>\n",
       "      <td>0</td>\n",
       "      <td>1</td>\n",
       "      <td>0</td>\n",
       "      <td>0</td>\n",
       "    </tr>\n",
       "    <tr>\n",
       "      <th>1</th>\n",
       "      <td>1178791985106153472</td>\n",
       "      <td>ea4592f39636d87af8fb4b17b7e2e4c0</td>\n",
       "      <td>Mon Sep 30 22:01:24 +0000 2019</td>\n",
       "      <td>36365</td>\n",
       "      <td>19344</td>\n",
       "      <td>13</td>\n",
       "      <td>17</td>\n",
       "      <td>nazi:Nazism:-2.742538749414189;blood money:Blo...</td>\n",
       "      <td>1 -4</td>\n",
       "      <td>null;</td>\n",
       "      <td>...</td>\n",
       "      <td>Evening</td>\n",
       "      <td>0</td>\n",
       "      <td>Weekday</td>\n",
       "      <td>1</td>\n",
       "      <td>0</td>\n",
       "      <td>0</td>\n",
       "      <td>0</td>\n",
       "      <td>1</td>\n",
       "      <td>0</td>\n",
       "      <td>0</td>\n",
       "    </tr>\n",
       "    <tr>\n",
       "      <th>2</th>\n",
       "      <td>1178793230223183872</td>\n",
       "      <td>bf05d1888dd974fa4a8679c25e2ead03</td>\n",
       "      <td>Mon Sep 30 22:06:21 +0000 2019</td>\n",
       "      <td>5018</td>\n",
       "      <td>1933</td>\n",
       "      <td>0</td>\n",
       "      <td>0</td>\n",
       "      <td>vaccine:Vaccine:-2.6651530673745762;anti vaxxe...</td>\n",
       "      <td>2 -1</td>\n",
       "      <td>null;</td>\n",
       "      <td>...</td>\n",
       "      <td>Evening</td>\n",
       "      <td>0</td>\n",
       "      <td>Weekday</td>\n",
       "      <td>1</td>\n",
       "      <td>0</td>\n",
       "      <td>0</td>\n",
       "      <td>0</td>\n",
       "      <td>1</td>\n",
       "      <td>0</td>\n",
       "      <td>0</td>\n",
       "    </tr>\n",
       "    <tr>\n",
       "      <th>3</th>\n",
       "      <td>1178795172206919680</td>\n",
       "      <td>eb8a99bca8945eab1d006750e9b75518</td>\n",
       "      <td>Mon Sep 30 22:14:04 +0000 2019</td>\n",
       "      <td>2219</td>\n",
       "      <td>971</td>\n",
       "      <td>0</td>\n",
       "      <td>0</td>\n",
       "      <td>muse:Muse_%28band%29:-2.1677823918620867;talki...</td>\n",
       "      <td>2 -1</td>\n",
       "      <td>null;</td>\n",
       "      <td>...</td>\n",
       "      <td>Evening</td>\n",
       "      <td>0</td>\n",
       "      <td>Weekday</td>\n",
       "      <td>1</td>\n",
       "      <td>0</td>\n",
       "      <td>0</td>\n",
       "      <td>0</td>\n",
       "      <td>1</td>\n",
       "      <td>0</td>\n",
       "      <td>0</td>\n",
       "    </tr>\n",
       "    <tr>\n",
       "      <th>4</th>\n",
       "      <td>1178798309491822592</td>\n",
       "      <td>00695cf79d60e86a5d0f872f4358337a</td>\n",
       "      <td>Mon Sep 30 22:26:32 +0000 2019</td>\n",
       "      <td>9009</td>\n",
       "      <td>4943</td>\n",
       "      <td>26</td>\n",
       "      <td>89</td>\n",
       "      <td>people of northern ireland:People_of_Northern_...</td>\n",
       "      <td>2 -1</td>\n",
       "      <td>null;</td>\n",
       "      <td>...</td>\n",
       "      <td>Evening</td>\n",
       "      <td>0</td>\n",
       "      <td>Weekday</td>\n",
       "      <td>1</td>\n",
       "      <td>0</td>\n",
       "      <td>0</td>\n",
       "      <td>0</td>\n",
       "      <td>1</td>\n",
       "      <td>0</td>\n",
       "      <td>0</td>\n",
       "    </tr>\n",
       "  </tbody>\n",
       "</table>\n",
       "<p>5 rows × 48 columns</p>\n",
       "</div>"
      ],
      "text/plain": [
       "              Tweet ID                          Username  \\\n",
       "0  1178791787386814465  35234fe4a19cc1a3336095fb3780bcc1   \n",
       "1  1178791985106153472  ea4592f39636d87af8fb4b17b7e2e4c0   \n",
       "2  1178793230223183872  bf05d1888dd974fa4a8679c25e2ead03   \n",
       "3  1178795172206919680  eb8a99bca8945eab1d006750e9b75518   \n",
       "4  1178798309491822592  00695cf79d60e86a5d0f872f4358337a   \n",
       "\n",
       "                        Timestamp  #Followers  #Friends  #Retweets  \\\n",
       "0  Mon Sep 30 22:00:37 +0000 2019         619       770          0   \n",
       "1  Mon Sep 30 22:01:24 +0000 2019       36365     19344         13   \n",
       "2  Mon Sep 30 22:06:21 +0000 2019        5018      1933          0   \n",
       "3  Mon Sep 30 22:14:04 +0000 2019        2219       971          0   \n",
       "4  Mon Sep 30 22:26:32 +0000 2019        9009      4943         26   \n",
       "\n",
       "   #Favorites                                           Entities Sentiment  \\\n",
       "0           0                                              null;      2 -1   \n",
       "1          17  nazi:Nazism:-2.742538749414189;blood money:Blo...      1 -4   \n",
       "2           0  vaccine:Vaccine:-2.6651530673745762;anti vaxxe...      2 -1   \n",
       "3           0  muse:Muse_%28band%29:-2.1677823918620867;talki...      2 -1   \n",
       "4          89  people of northern ireland:People_of_Northern_...      2 -1   \n",
       "\n",
       "  Mentions  ... time_of_day day  day_of_wk  Weekday  Weekend  Afternoon  \\\n",
       "0    null;  ...     Evening   0    Weekday        1        0          0   \n",
       "1    null;  ...     Evening   0    Weekday        1        0          0   \n",
       "2    null;  ...     Evening   0    Weekday        1        0          0   \n",
       "3    null;  ...     Evening   0    Weekday        1        0          0   \n",
       "4    null;  ...     Evening   0    Weekday        1        0          0   \n",
       "\n",
       "   Early Morning  Evening  Morning  Night  \n",
       "0              0        1        0      0  \n",
       "1              0        1        0      0  \n",
       "2              0        1        0      0  \n",
       "3              0        1        0      0  \n",
       "4              0        1        0      0  \n",
       "\n",
       "[5 rows x 48 columns]"
      ]
     },
     "execution_count": 34,
     "metadata": {},
     "output_type": "execute_result"
    }
   ],
   "source": [
    "tweets.head()"
   ]
  },
  {
   "cell_type": "code",
   "execution_count": 35,
   "metadata": {},
   "outputs": [],
   "source": [
    "#next, parse out entities \n",
    "ent=tweets['Entities'].str.split(';').copy()"
   ]
  },
  {
   "cell_type": "code",
   "execution_count": 36,
   "metadata": {},
   "outputs": [],
   "source": [
    "#the matched entities are between two : symbols in the string\n",
    "pattern=':(.*?):'\n",
    "ent1=[re.search(pattern, i.strip().upper()).group(1) for i in list(itertools.chain.from_iterable(ent.to_list())) if 'null' not in i and i !='']"
   ]
  },
  {
   "cell_type": "code",
   "execution_count": 37,
   "metadata": {},
   "outputs": [],
   "source": [
    "entities_dict={x: count for x, count in Counter(ent1).items() if count >=10 and (x not in top_hashtags and x not in top_mentions)}"
   ]
  },
  {
   "cell_type": "code",
   "execution_count": 38,
   "metadata": {},
   "outputs": [
    {
     "name": "stdout",
     "output_type": "stream",
     "text": [
      "TWITTER: 2283\n",
      "LOL: 1157\n",
      "RAPPING: 1022\n",
      "HONG_KONG: 808\n",
      "WHAT%27S_HAPPENING%21%21: 765\n",
      "REPUBLICAN_PARTY_%28UNITED_STATES%29: 762\n",
      "BTS: 667\n",
      "NATIONAL_BASKETBALL_ASSOCIATION: 555\n",
      "BREXIT: 542\n",
      "IMPEACHMENT: 502\n"
     ]
    }
   ],
   "source": [
    "# take a look at the top matched entities:\n",
    "top_ents=sorted(entities_dict, key=entities_dict.get, reverse=True)[:10]\n",
    "for i in top_ents:\n",
    "    print(i, ': ', entities_dict.get(i), sep='')"
   ]
  },
  {
   "cell_type": "code",
   "execution_count": 39,
   "metadata": {},
   "outputs": [],
   "source": [
    "# hot encode dummy variables for top entities\n",
    "# note that there is some subject overlap (potential collinearity with top mentions/hashtags), will need to resolve that\n",
    "for i in top_ents:\n",
    "        tweets[i]=0\n",
    "        tweets.loc[tweets['Entities'].str.upper().str.contains(i), i]=1"
   ]
  },
  {
   "cell_type": "code",
   "execution_count": 40,
   "metadata": {},
   "outputs": [
    {
     "data": {
      "text/html": [
       "<div>\n",
       "<style scoped>\n",
       "    .dataframe tbody tr th:only-of-type {\n",
       "        vertical-align: middle;\n",
       "    }\n",
       "\n",
       "    .dataframe tbody tr th {\n",
       "        vertical-align: top;\n",
       "    }\n",
       "\n",
       "    .dataframe thead th {\n",
       "        text-align: right;\n",
       "    }\n",
       "</style>\n",
       "<table border=\"1\" class=\"dataframe\">\n",
       "  <thead>\n",
       "    <tr style=\"text-align: right;\">\n",
       "      <th></th>\n",
       "      <th>Tweet ID</th>\n",
       "      <th>Username</th>\n",
       "      <th>Timestamp</th>\n",
       "      <th>#Followers</th>\n",
       "      <th>#Friends</th>\n",
       "      <th>#Retweets</th>\n",
       "      <th>#Favorites</th>\n",
       "      <th>Entities</th>\n",
       "      <th>Sentiment</th>\n",
       "      <th>Mentions</th>\n",
       "      <th>...</th>\n",
       "      <th>TWITTER</th>\n",
       "      <th>LOL</th>\n",
       "      <th>RAPPING</th>\n",
       "      <th>HONG_KONG</th>\n",
       "      <th>WHAT%27S_HAPPENING%21%21</th>\n",
       "      <th>REPUBLICAN_PARTY_%28UNITED_STATES%29</th>\n",
       "      <th>BTS</th>\n",
       "      <th>NATIONAL_BASKETBALL_ASSOCIATION</th>\n",
       "      <th>BREXIT</th>\n",
       "      <th>IMPEACHMENT</th>\n",
       "    </tr>\n",
       "  </thead>\n",
       "  <tbody>\n",
       "    <tr>\n",
       "      <th>0</th>\n",
       "      <td>1178791787386814465</td>\n",
       "      <td>35234fe4a19cc1a3336095fb3780bcc1</td>\n",
       "      <td>Mon Sep 30 22:00:37 +0000 2019</td>\n",
       "      <td>619</td>\n",
       "      <td>770</td>\n",
       "      <td>0</td>\n",
       "      <td>0</td>\n",
       "      <td>null;</td>\n",
       "      <td>2 -1</td>\n",
       "      <td>null;</td>\n",
       "      <td>...</td>\n",
       "      <td>0</td>\n",
       "      <td>0</td>\n",
       "      <td>0</td>\n",
       "      <td>0</td>\n",
       "      <td>0</td>\n",
       "      <td>0</td>\n",
       "      <td>0</td>\n",
       "      <td>0</td>\n",
       "      <td>0</td>\n",
       "      <td>0</td>\n",
       "    </tr>\n",
       "    <tr>\n",
       "      <th>1</th>\n",
       "      <td>1178791985106153472</td>\n",
       "      <td>ea4592f39636d87af8fb4b17b7e2e4c0</td>\n",
       "      <td>Mon Sep 30 22:01:24 +0000 2019</td>\n",
       "      <td>36365</td>\n",
       "      <td>19344</td>\n",
       "      <td>13</td>\n",
       "      <td>17</td>\n",
       "      <td>nazi:Nazism:-2.742538749414189;blood money:Blo...</td>\n",
       "      <td>1 -4</td>\n",
       "      <td>null;</td>\n",
       "      <td>...</td>\n",
       "      <td>0</td>\n",
       "      <td>0</td>\n",
       "      <td>0</td>\n",
       "      <td>0</td>\n",
       "      <td>0</td>\n",
       "      <td>0</td>\n",
       "      <td>0</td>\n",
       "      <td>0</td>\n",
       "      <td>0</td>\n",
       "      <td>0</td>\n",
       "    </tr>\n",
       "    <tr>\n",
       "      <th>2</th>\n",
       "      <td>1178793230223183872</td>\n",
       "      <td>bf05d1888dd974fa4a8679c25e2ead03</td>\n",
       "      <td>Mon Sep 30 22:06:21 +0000 2019</td>\n",
       "      <td>5018</td>\n",
       "      <td>1933</td>\n",
       "      <td>0</td>\n",
       "      <td>0</td>\n",
       "      <td>vaccine:Vaccine:-2.6651530673745762;anti vaxxe...</td>\n",
       "      <td>2 -1</td>\n",
       "      <td>null;</td>\n",
       "      <td>...</td>\n",
       "      <td>0</td>\n",
       "      <td>0</td>\n",
       "      <td>0</td>\n",
       "      <td>0</td>\n",
       "      <td>0</td>\n",
       "      <td>0</td>\n",
       "      <td>0</td>\n",
       "      <td>0</td>\n",
       "      <td>0</td>\n",
       "      <td>0</td>\n",
       "    </tr>\n",
       "    <tr>\n",
       "      <th>3</th>\n",
       "      <td>1178795172206919680</td>\n",
       "      <td>eb8a99bca8945eab1d006750e9b75518</td>\n",
       "      <td>Mon Sep 30 22:14:04 +0000 2019</td>\n",
       "      <td>2219</td>\n",
       "      <td>971</td>\n",
       "      <td>0</td>\n",
       "      <td>0</td>\n",
       "      <td>muse:Muse_%28band%29:-2.1677823918620867;talki...</td>\n",
       "      <td>2 -1</td>\n",
       "      <td>null;</td>\n",
       "      <td>...</td>\n",
       "      <td>0</td>\n",
       "      <td>0</td>\n",
       "      <td>0</td>\n",
       "      <td>0</td>\n",
       "      <td>0</td>\n",
       "      <td>0</td>\n",
       "      <td>0</td>\n",
       "      <td>0</td>\n",
       "      <td>0</td>\n",
       "      <td>0</td>\n",
       "    </tr>\n",
       "    <tr>\n",
       "      <th>4</th>\n",
       "      <td>1178798309491822592</td>\n",
       "      <td>00695cf79d60e86a5d0f872f4358337a</td>\n",
       "      <td>Mon Sep 30 22:26:32 +0000 2019</td>\n",
       "      <td>9009</td>\n",
       "      <td>4943</td>\n",
       "      <td>26</td>\n",
       "      <td>89</td>\n",
       "      <td>people of northern ireland:People_of_Northern_...</td>\n",
       "      <td>2 -1</td>\n",
       "      <td>null;</td>\n",
       "      <td>...</td>\n",
       "      <td>0</td>\n",
       "      <td>0</td>\n",
       "      <td>0</td>\n",
       "      <td>0</td>\n",
       "      <td>0</td>\n",
       "      <td>0</td>\n",
       "      <td>0</td>\n",
       "      <td>0</td>\n",
       "      <td>0</td>\n",
       "      <td>0</td>\n",
       "    </tr>\n",
       "  </tbody>\n",
       "</table>\n",
       "<p>5 rows × 58 columns</p>\n",
       "</div>"
      ],
      "text/plain": [
       "              Tweet ID                          Username  \\\n",
       "0  1178791787386814465  35234fe4a19cc1a3336095fb3780bcc1   \n",
       "1  1178791985106153472  ea4592f39636d87af8fb4b17b7e2e4c0   \n",
       "2  1178793230223183872  bf05d1888dd974fa4a8679c25e2ead03   \n",
       "3  1178795172206919680  eb8a99bca8945eab1d006750e9b75518   \n",
       "4  1178798309491822592  00695cf79d60e86a5d0f872f4358337a   \n",
       "\n",
       "                        Timestamp  #Followers  #Friends  #Retweets  \\\n",
       "0  Mon Sep 30 22:00:37 +0000 2019         619       770          0   \n",
       "1  Mon Sep 30 22:01:24 +0000 2019       36365     19344         13   \n",
       "2  Mon Sep 30 22:06:21 +0000 2019        5018      1933          0   \n",
       "3  Mon Sep 30 22:14:04 +0000 2019        2219       971          0   \n",
       "4  Mon Sep 30 22:26:32 +0000 2019        9009      4943         26   \n",
       "\n",
       "   #Favorites                                           Entities Sentiment  \\\n",
       "0           0                                              null;      2 -1   \n",
       "1          17  nazi:Nazism:-2.742538749414189;blood money:Blo...      1 -4   \n",
       "2           0  vaccine:Vaccine:-2.6651530673745762;anti vaxxe...      2 -1   \n",
       "3           0  muse:Muse_%28band%29:-2.1677823918620867;talki...      2 -1   \n",
       "4          89  people of northern ireland:People_of_Northern_...      2 -1   \n",
       "\n",
       "  Mentions  ... TWITTER LOL  RAPPING  HONG_KONG  WHAT%27S_HAPPENING%21%21  \\\n",
       "0    null;  ...       0   0        0          0                         0   \n",
       "1    null;  ...       0   0        0          0                         0   \n",
       "2    null;  ...       0   0        0          0                         0   \n",
       "3    null;  ...       0   0        0          0                         0   \n",
       "4    null;  ...       0   0        0          0                         0   \n",
       "\n",
       "   REPUBLICAN_PARTY_%28UNITED_STATES%29  BTS  NATIONAL_BASKETBALL_ASSOCIATION  \\\n",
       "0                                     0    0                                0   \n",
       "1                                     0    0                                0   \n",
       "2                                     0    0                                0   \n",
       "3                                     0    0                                0   \n",
       "4                                     0    0                                0   \n",
       "\n",
       "   BREXIT  IMPEACHMENT  \n",
       "0       0            0  \n",
       "1       0            0  \n",
       "2       0            0  \n",
       "3       0            0  \n",
       "4       0            0  \n",
       "\n",
       "[5 rows x 58 columns]"
      ]
     },
     "execution_count": 40,
     "metadata": {},
     "output_type": "execute_result"
    }
   ],
   "source": [
    "tweets.head(5)"
   ]
  },
  {
   "cell_type": "code",
   "execution_count": 41,
   "metadata": {},
   "outputs": [],
   "source": [
    "corr1=tweets[top_mentions + top_ents + top_hashtags].corr() "
   ]
  },
  {
   "cell_type": "code",
   "execution_count": 42,
   "metadata": {},
   "outputs": [
    {
     "name": "stdout",
     "output_type": "stream",
     "text": [
      "                                      REALDONALDTRUMP  JAKETAPPER   BTS_TWT  \\\n",
      "REALDONALDTRUMP                              1.000000    0.026036 -0.006865   \n",
      "JAKETAPPER                                   0.026036    1.000000 -0.003964   \n",
      "BTS_TWT                                     -0.006865   -0.003964  1.000000   \n",
      "POTUS                                        0.130709    0.010633 -0.002711   \n",
      "YOUTUBE                                     -0.001765   -0.003745  0.001593   \n",
      "CNN                                          0.041350    0.261497 -0.003005   \n",
      "NBA                                          0.006827   -0.003594  0.035619   \n",
      "SPEAKERPELOSI                                0.099249    0.035594 -0.002220   \n",
      "GOP                                          0.097545    0.011595 -0.003234   \n",
      "LINDSEYGRAHAMSC                              0.051764    0.013198 -0.002041   \n",
      "TWITTER                                      0.008140   -0.001020 -0.000408   \n",
      "LOL                                         -0.004342   -0.002170  0.001926   \n",
      "RAPPING                                     -0.011848   -0.007730  0.014744   \n",
      "HONG_KONG                                   -0.003399   -0.007197 -0.004750   \n",
      "WHAT%27S_HAPPENING%21%21                     0.001424   -0.006764  0.002323   \n",
      "REPUBLICAN_PARTY_%28UNITED_STATES%29         0.087628    0.026415 -0.004270   \n",
      "BTS                                         -0.008341   -0.005444  0.722638   \n",
      "NATIONAL_BASKETBALL_ASSOCIATION              0.000128   -0.005505 -0.003634   \n",
      "BREXIT                                      -0.010062   -0.004069 -0.003835   \n",
      "IMPEACHMENT                                  0.063388    0.012800 -0.003921   \n",
      "CHINA                                        0.014236   -0.009901 -0.006535   \n",
      "HEALTHCARE                                  -0.005954   -0.005795 -0.003825   \n",
      "HONGKONG                                     0.002334   -0.007423 -0.004900   \n",
      "HONGKONGPROTESTS                            -0.005567   -0.004055 -0.002676   \n",
      "STANDWITHHONGKONG                            0.003093   -0.003713 -0.002451   \n",
      "CHINAZI                                      0.010600   -0.004716 -0.003113   \n",
      "STRONGERTOGETHER                            -0.006127   -0.003538 -0.002335   \n",
      "ANTICHINAZI                                  0.005709   -0.003160 -0.002086   \n",
      "ANTIMASKLAW                                 -0.005439   -0.003141 -0.002073   \n",
      "IMPEACHTRUMPPENCEBARRPOMPEO                  0.051783   -0.002902 -0.001915   \n",
      "\n",
      "                                         POTUS   YOUTUBE       CNN       NBA  \\\n",
      "REALDONALDTRUMP                       0.130709 -0.001765  0.041350  0.006827   \n",
      "JAKETAPPER                            0.010633 -0.003745  0.261497 -0.003594   \n",
      "BTS_TWT                              -0.002711  0.001593 -0.003005  0.035619   \n",
      "POTUS                                 1.000000  0.005290  0.019512  0.001683   \n",
      "YOUTUBE                               0.005290  1.000000  0.007788 -0.003398   \n",
      "CNN                                   0.019512  0.007788  1.000000  0.010514   \n",
      "NBA                                   0.001683 -0.003398  0.010514  1.000000   \n",
      "SPEAKERPELOSI                         0.041388  0.002691  0.036878  0.006846   \n",
      "GOP                                   0.062777  0.000239  0.020700  0.004635   \n",
      "LINDSEYGRAHAMSC                       0.026384  0.003277  0.010515 -0.002806   \n",
      "TWITTER                               0.005802  0.000404 -0.002395 -0.002005   \n",
      "LOL                                  -0.003888 -0.003217 -0.001453  0.000568   \n",
      "RAPPING                              -0.005285  0.003581 -0.004131 -0.007013   \n",
      "HONG_KONG                             0.001246 -0.002235  0.003819  0.022963   \n",
      "WHAT%27S_HAPPENING%21%21              0.008484 -0.004218  0.000787 -0.001187   \n",
      "REPUBLICAN_PARTY_%28UNITED_STATES%29  0.027537  0.000970  0.017759 -0.002422   \n",
      "BTS                                  -0.003722 -0.000427 -0.004127  0.027775   \n",
      "NATIONAL_BASKETBALL_ASSOCIATION      -0.001086  0.002437  0.007910  0.316539   \n",
      "BREXIT                                0.001104 -0.000841 -0.004405  0.000479   \n",
      "IMPEACHMENT                           0.033194  0.007184  0.011187  0.002113   \n",
      "CHINA                                 0.006779  0.002076  0.006081  0.028535   \n",
      "HEALTHCARE                            0.003673 -0.003614 -0.002096 -0.005258   \n",
      "HONGKONG                              0.000907 -0.000258  0.014168  0.027900   \n",
      "HONGKONGPROTESTS                     -0.002772 -0.002528  0.003473  0.004538   \n",
      "STANDWITHHONGKONG                    -0.002539 -0.002315  0.011478  0.017561   \n",
      "CHINAZI                              -0.003225  0.000480  0.007692  0.007506   \n",
      "STRONGERTOGETHER                     -0.002419 -0.002206 -0.002682 -0.003210   \n",
      "ANTICHINAZI                          -0.002161  0.003124  0.005995  0.004154   \n",
      "ANTIMASKLAW                          -0.002148 -0.001959  0.001840  0.000682   \n",
      "IMPEACHTRUMPPENCEBARRPOMPEO           0.013200 -0.001809  0.002368 -0.002633   \n",
      "\n",
      "                                      SPEAKERPELOSI       GOP  \\\n",
      "REALDONALDTRUMP                            0.099249  0.097545   \n",
      "JAKETAPPER                                 0.035594  0.011595   \n",
      "BTS_TWT                                   -0.002220 -0.003234   \n",
      "POTUS                                      0.041388  0.062777   \n",
      "YOUTUBE                                    0.002691  0.000239   \n",
      "CNN                                        0.036878  0.020700   \n",
      "NBA                                        0.006846  0.004635   \n",
      "SPEAKERPELOSI                              1.000000  0.063254   \n",
      "GOP                                        0.063254  1.000000   \n",
      "LINDSEYGRAHAMSC                            0.027238  0.061258   \n",
      "TWITTER                                   -0.001331  0.006680   \n",
      "LOL                                       -0.002468 -0.003770   \n",
      "RAPPING                                   -0.004329 -0.006305   \n",
      "HONG_KONG                                  0.005999 -0.004145   \n",
      "WHAT%27S_HAPPENING%21%21                  -0.001123 -0.003684   \n",
      "REPUBLICAN_PARTY_%28UNITED_STATES%29       0.035364  0.308935   \n",
      "BTS                                       -0.003049 -0.004440   \n",
      "NATIONAL_BASKETBALL_ASSOCIATION            0.003450  0.002252   \n",
      "BREXIT                                    -0.003254 -0.004739   \n",
      "IMPEACHMENT                                0.054237  0.038928   \n",
      "CHINA                                      0.014656 -0.000495   \n",
      "HEALTHCARE                                -0.000141 -0.002591   \n",
      "HONGKONG                                   0.022599 -0.004381   \n",
      "HONGKONGPROTESTS                          -0.002271 -0.000263   \n",
      "STANDWITHHONGKONG                          0.022069 -0.003028   \n",
      "CHINAZI                                    0.031625 -0.003847   \n",
      "STRONGERTOGETHER                          -0.001981 -0.002886   \n",
      "ANTICHINAZI                                0.020913 -0.002578   \n",
      "ANTIMASKLAW                                0.003946 -0.002562   \n",
      "IMPEACHTRUMPPENCEBARRPOMPEO                0.029245  0.040111   \n",
      "\n",
      "                                      LINDSEYGRAHAMSC  ...     CHINA  \\\n",
      "REALDONALDTRUMP                              0.051764  ...  0.014236   \n",
      "JAKETAPPER                                   0.013198  ... -0.009901   \n",
      "BTS_TWT                                     -0.002041  ... -0.006535   \n",
      "POTUS                                        0.026384  ...  0.006779   \n",
      "YOUTUBE                                      0.003277  ...  0.002076   \n",
      "CNN                                          0.010515  ...  0.006081   \n",
      "NBA                                         -0.002806  ...  0.028535   \n",
      "SPEAKERPELOSI                                0.027238  ...  0.014656   \n",
      "GOP                                          0.061258  ... -0.000495   \n",
      "LINDSEYGRAHAMSC                              1.000000  ... -0.005098   \n",
      "TWITTER                                     -0.002180  ... -0.007658   \n",
      "LOL                                         -0.004274  ... -0.012180   \n",
      "RAPPING                                     -0.003980  ... -0.012743   \n",
      "HONG_KONG                                   -0.003706  ...  0.187725   \n",
      "WHAT%27S_HAPPENING%21%21                     0.002312  ... -0.008395   \n",
      "REPUBLICAN_PARTY_%28UNITED_STATES%29         0.063276  ... -0.002028   \n",
      "BTS                                         -0.002803  ... -0.007836   \n",
      "NATIONAL_BASKETBALL_ASSOCIATION             -0.002835  ...  0.079848   \n",
      "BREXIT                                      -0.002992  ... -0.007445   \n",
      "IMPEACHMENT                                  0.023293  ... -0.002484   \n",
      "CHINA                                       -0.005098  ...  1.000000   \n",
      "HEALTHCARE                                   0.000391  ... -0.008483   \n",
      "HONGKONG                                    -0.003822  ...  0.340643   \n",
      "HONGKONGPROTESTS                            -0.002088  ...  0.171693   \n",
      "STANDWITHHONGKONG                           -0.001912  ...  0.188599   \n",
      "CHINAZI                                     -0.002429  ...  0.476351   \n",
      "STRONGERTOGETHER                            -0.001822  ... -0.005833   \n",
      "ANTICHINAZI                                 -0.001627  ...  0.319173   \n",
      "ANTIMASKLAW                                 -0.001617  ...  0.040039   \n",
      "IMPEACHTRUMPPENCEBARRPOMPEO                  0.011931  ... -0.004784   \n",
      "\n",
      "                                      HEALTHCARE  HONGKONG  HONGKONGPROTESTS  \\\n",
      "REALDONALDTRUMP                        -0.005954  0.002334         -0.005567   \n",
      "JAKETAPPER                             -0.005795 -0.007423         -0.004055   \n",
      "BTS_TWT                                -0.003825 -0.004900         -0.002676   \n",
      "POTUS                                   0.003673  0.000907         -0.002772   \n",
      "YOUTUBE                                -0.003614 -0.000258         -0.002528   \n",
      "CNN                                    -0.002096  0.014168          0.003473   \n",
      "NBA                                    -0.005258  0.027900          0.004538   \n",
      "SPEAKERPELOSI                          -0.000141  0.022599         -0.002271   \n",
      "GOP                                    -0.002591 -0.004381         -0.000263   \n",
      "LINDSEYGRAHAMSC                         0.000391 -0.003822         -0.002088   \n",
      "TWITTER                                -0.005033 -0.004810         -0.004808   \n",
      "LOL                                    -0.005468 -0.007272         -0.001983   \n",
      "RAPPING                                -0.007458 -0.009553         -0.005218   \n",
      "HONG_KONG                              -0.006944  0.480914          0.294889   \n",
      "WHAT%27S_HAPPENING%21%21               -0.006526  0.000156         -0.000141   \n",
      "REPUBLICAN_PARTY_%28UNITED_STATES%29    0.005114 -0.004182          0.000256   \n",
      "BTS                                    -0.005252 -0.006728         -0.003675   \n",
      "NATIONAL_BASKETBALL_ASSOCIATION        -0.005311  0.075195          0.017978   \n",
      "BREXIT                                 -0.003802 -0.005768         -0.003923   \n",
      "IMPEACHMENT                            -0.002201 -0.004575         -0.004010   \n",
      "CHINA                                  -0.008483  0.340643          0.171693   \n",
      "HEALTHCARE                              1.000000 -0.007162         -0.003912   \n",
      "HONGKONG                               -0.007162  1.000000          0.546273   \n",
      "HONGKONGPROTESTS                       -0.003912  0.546273          1.000000   \n",
      "STANDWITHHONGKONG                      -0.003582  0.500208          0.129808   \n",
      "CHINAZI                                -0.004551  0.317395          0.094802   \n",
      "STRONGERTOGETHER                       -0.003414 -0.002060         -0.002389   \n",
      "ANTICHINAZI                            -0.003049  0.223861          0.068484   \n",
      "ANTIMASKLAW                            -0.003031  0.298178          0.187335   \n",
      "IMPEACHTRUMPPENCEBARRPOMPEO            -0.002800 -0.003586         -0.001959   \n",
      "\n",
      "                                      STANDWITHHONGKONG   CHINAZI  \\\n",
      "REALDONALDTRUMP                                0.003093  0.010600   \n",
      "JAKETAPPER                                    -0.003713 -0.004716   \n",
      "BTS_TWT                                       -0.002451 -0.003113   \n",
      "POTUS                                         -0.002539 -0.003225   \n",
      "YOUTUBE                                       -0.002315  0.000480   \n",
      "CNN                                            0.011478  0.007692   \n",
      "NBA                                            0.017561  0.007506   \n",
      "SPEAKERPELOSI                                  0.022069  0.031625   \n",
      "GOP                                           -0.003028 -0.003847   \n",
      "LINDSEYGRAHAMSC                               -0.001912 -0.002429   \n",
      "TWITTER                                       -0.003924 -0.008756   \n",
      "LOL                                           -0.005131 -0.004960   \n",
      "RAPPING                                       -0.004778 -0.006070   \n",
      "HONG_KONG                                      0.131888  0.135862   \n",
      "WHAT%27S_HAPPENING%21%21                      -0.001766 -0.005312   \n",
      "REPUBLICAN_PARTY_%28UNITED_STATES%29          -0.003999 -0.005080   \n",
      "BTS                                           -0.003365 -0.001915   \n",
      "NATIONAL_BASKETBALL_ASSOCIATION                0.073562  0.054018   \n",
      "BREXIT                                        -0.003592 -0.004563   \n",
      "IMPEACHMENT                                   -0.003672 -0.002500   \n",
      "CHINA                                          0.188599  0.476351   \n",
      "HEALTHCARE                                    -0.003582 -0.004551   \n",
      "HONGKONG                                       0.500208  0.317395   \n",
      "HONGKONGPROTESTS                               0.129808  0.094802   \n",
      "STANDWITHHONGKONG                              1.000000  0.280017   \n",
      "CHINAZI                                        0.280017  1.000000   \n",
      "STRONGERTOGETHER                               0.002405 -0.002778   \n",
      "ANTICHINAZI                                    0.244723  0.670037   \n",
      "ANTIMASKLAW                                    0.153167  0.070900   \n",
      "IMPEACHTRUMPPENCEBARRPOMPEO                   -0.001794 -0.002279   \n",
      "\n",
      "                                      STRONGERTOGETHER  ANTICHINAZI  \\\n",
      "REALDONALDTRUMP                              -0.006127     0.005709   \n",
      "JAKETAPPER                                   -0.003538    -0.003160   \n",
      "BTS_TWT                                      -0.002335    -0.002086   \n",
      "POTUS                                        -0.002419    -0.002161   \n",
      "YOUTUBE                                      -0.002206     0.003124   \n",
      "CNN                                          -0.002682     0.005995   \n",
      "NBA                                          -0.003210     0.004154   \n",
      "SPEAKERPELOSI                                -0.001981     0.020913   \n",
      "GOP                                          -0.002886    -0.002578   \n",
      "LINDSEYGRAHAMSC                              -0.001822    -0.001627   \n",
      "TWITTER                                       0.019903    -0.005867   \n",
      "LOL                                          -0.002817    -0.004367   \n",
      "RAPPING                                      -0.004554    -0.004067   \n",
      "HONG_KONG                                    -0.004240     0.094930   \n",
      "WHAT%27S_HAPPENING%21%21                      0.001083    -0.003559   \n",
      "REPUBLICAN_PARTY_%28UNITED_STATES%29          0.001484    -0.003404   \n",
      "BTS                                          -0.003207     0.000650   \n",
      "NATIONAL_BASKETBALL_ASSOCIATION              -0.003243     0.035337   \n",
      "BREXIT                                       -0.003423    -0.003057   \n",
      "IMPEACHMENT                                  -0.003499    -0.003125   \n",
      "CHINA                                        -0.005833     0.319173   \n",
      "HEALTHCARE                                   -0.003414    -0.003049   \n",
      "HONGKONG                                     -0.002060     0.223861   \n",
      "HONGKONGPROTESTS                             -0.002389     0.068484   \n",
      "STANDWITHHONGKONG                             0.002405     0.244723   \n",
      "CHINAZI                                      -0.002778     0.670037   \n",
      "STRONGERTOGETHER                              1.000000    -0.001862   \n",
      "ANTICHINAZI                                  -0.001862     1.000000   \n",
      "ANTIMASKLAW                                  -0.001850     0.089408   \n",
      "IMPEACHTRUMPPENCEBARRPOMPEO                  -0.001709    -0.001527   \n",
      "\n",
      "                                      ANTIMASKLAW  IMPEACHTRUMPPENCEBARRPOMPEO  \n",
      "REALDONALDTRUMP                         -0.005439                     0.051783  \n",
      "JAKETAPPER                              -0.003141                    -0.002902  \n",
      "BTS_TWT                                 -0.002073                    -0.001915  \n",
      "POTUS                                   -0.002148                     0.013200  \n",
      "YOUTUBE                                 -0.001959                    -0.001809  \n",
      "CNN                                      0.001840                     0.002368  \n",
      "NBA                                      0.000682                    -0.002633  \n",
      "SPEAKERPELOSI                            0.003946                     0.029245  \n",
      "GOP                                     -0.002562                     0.040111  \n",
      "LINDSEYGRAHAMSC                         -0.001617                     0.011931  \n",
      "TWITTER                                 -0.005831                    -0.001592  \n",
      "LOL                                     -0.002007                    -0.004010  \n",
      "RAPPING                                 -0.004042                    -0.003735  \n",
      "HONG_KONG                                0.143868                    -0.000572  \n",
      "WHAT%27S_HAPPENING%21%21                -0.003537                    -0.003268  \n",
      "REPUBLICAN_PARTY_%28UNITED_STATES%29    -0.003383                     0.042042  \n",
      "BTS                                     -0.002847                    -0.002630  \n",
      "NATIONAL_BASKETBALL_ASSOCIATION          0.004115                    -0.002660  \n",
      "BREXIT                                  -0.003039                    -0.002807  \n",
      "IMPEACHMENT                             -0.003106                     0.049780  \n",
      "CHINA                                    0.040039                    -0.004784  \n",
      "HEALTHCARE                              -0.003031                    -0.002800  \n",
      "HONGKONG                                 0.298178                    -0.003586  \n",
      "HONGKONGPROTESTS                         0.187335                    -0.001959  \n",
      "STANDWITHHONGKONG                        0.153167                    -0.001794  \n",
      "CHINAZI                                  0.070900                    -0.002279  \n",
      "STRONGERTOGETHER                        -0.001850                    -0.001709  \n",
      "ANTICHINAZI                              0.089408                    -0.001527  \n",
      "ANTIMASKLAW                              1.000000                    -0.001518  \n",
      "IMPEACHTRUMPPENCEBARRPOMPEO             -0.001518                     1.000000  \n",
      "\n",
      "[30 rows x 30 columns]\n"
     ]
    }
   ],
   "source": [
    "print(corr1)"
   ]
  },
  {
   "cell_type": "code",
   "execution_count": 43,
   "metadata": {},
   "outputs": [
    {
     "data": {
      "text/plain": [
       "<matplotlib.axes._subplots.AxesSubplot at 0x1e4387ccf08>"
      ]
     },
     "execution_count": 43,
     "metadata": {},
     "output_type": "execute_result"
    },
    {
     "data": {
      "image/png": "[encoded data removed]",
      "text/plain": [
       "<Figure size 792x648 with 2 Axes>"
      ]
     },
     "metadata": {
      "needs_background": "light"
     },
     "output_type": "display_data"
    }
   ],
   "source": [
    "mask = np.zeros_like(corr1, dtype=np.bool)\n",
    "mask[np.triu_indices_from(mask)] = True\n",
    "\n",
    "f, ax = plt.subplots(figsize=(11, 9))\n",
    "\n",
    "# Generate a custom diverging colormap\n",
    "cmap = sns.diverging_palette(220, 10, as_cmap=True)\n",
    "\n",
    "ax.set_title('Correlation Matrix')\n",
    "\n",
    "# Draw the heatmap with the mask and correct aspect ratio\n",
    "sns.heatmap(corr1, mask=mask, cmap=cmap, center=0.1,\n",
    "            square=True, linewidths=.3)"
   ]
  },
  {
   "cell_type": "code",
   "execution_count": 44,
   "metadata": {},
   "outputs": [],
   "source": [
    "# the highly correlated text features are BTS/BTS_TWT, HONGKONGPROTEST/HONGKONG ANTICHINAZI/CHINAZI, STANDWITHHONGKONG/HONGKONG\n",
    "# drop subset of these features to reduce issue of multicollinearity\n",
    "cleaned_tweets=tweets.drop(['BTS_TWT', 'HONGKONG', 'HONG_KONG', 'CHINAZI'], axis=1).copy()"
   ]
  },
  {
   "cell_type": "code",
   "execution_count": 45,
   "metadata": {},
   "outputs": [],
   "source": [
    "# drop mention and hashtag variables, along with url and sentiment  \n",
    "cleaned_tweets.drop(['Hashtags','Timestamp', 'Entities', 'Mentions', 'Tweet ID', 'Username', 'Sentiment', 'URLs', 'day_of_wk', 'time_of_day', 'hour', 'day', 'ts'], axis=1, inplace=True)"
   ]
  },
  {
   "cell_type": "code",
   "execution_count": 46,
   "metadata": {},
   "outputs": [
    {
     "data": {
      "text/plain": [
       "#Followers                              0\n",
       "#Friends                                0\n",
       "#Retweets                               0\n",
       "#Favorites                              0\n",
       "Positive                                0\n",
       "Negative                                0\n",
       "#Mentions                               0\n",
       "#Hashtags                               0\n",
       "REALDONALDTRUMP                         0\n",
       "JAKETAPPER                              0\n",
       "POTUS                                   0\n",
       "YOUTUBE                                 0\n",
       "CNN                                     0\n",
       "NBA                                     0\n",
       "SPEAKERPELOSI                           0\n",
       "GOP                                     0\n",
       "LINDSEYGRAHAMSC                         0\n",
       "CHINA                                   0\n",
       "HEALTHCARE                              0\n",
       "HONGKONGPROTESTS                        0\n",
       "STANDWITHHONGKONG                       0\n",
       "STRONGERTOGETHER                        0\n",
       "ANTICHINAZI                             0\n",
       "ANTIMASKLAW                             0\n",
       "IMPEACHTRUMPPENCEBARRPOMPEO             0\n",
       "Weekday                                 0\n",
       "Weekend                                 0\n",
       "Afternoon                               0\n",
       "Early Morning                           0\n",
       "Evening                                 0\n",
       "Morning                                 0\n",
       "Night                                   0\n",
       "TWITTER                                 0\n",
       "LOL                                     0\n",
       "RAPPING                                 0\n",
       "WHAT%27S_HAPPENING%21%21                0\n",
       "REPUBLICAN_PARTY_%28UNITED_STATES%29    0\n",
       "BTS                                     0\n",
       "NATIONAL_BASKETBALL_ASSOCIATION         0\n",
       "BREXIT                                  0\n",
       "IMPEACHMENT                             0\n",
       "dtype: int64"
      ]
     },
     "execution_count": 46,
     "metadata": {},
     "output_type": "execute_result"
    }
   ],
   "source": [
    "# check for null values\n",
    "cleaned_tweets.isnull().sum()"
   ]
  },
  {
   "cell_type": "code",
   "execution_count": 47,
   "metadata": {},
   "outputs": [],
   "source": [
    "features=cleaned_tweets.columns.tolist()\n",
    "features.remove('#Retweets')"
   ]
  },
  {
   "cell_type": "code",
   "execution_count": 48,
   "metadata": {},
   "outputs": [
    {
     "data": {
      "text/plain": [
       "['#Followers',\n",
       " '#Friends',\n",
       " '#Favorites',\n",
       " 'Positive',\n",
       " 'Negative',\n",
       " '#Mentions',\n",
       " '#Hashtags',\n",
       " 'REALDONALDTRUMP',\n",
       " 'JAKETAPPER',\n",
       " 'POTUS',\n",
       " 'YOUTUBE',\n",
       " 'CNN',\n",
       " 'NBA',\n",
       " 'SPEAKERPELOSI',\n",
       " 'GOP',\n",
       " 'LINDSEYGRAHAMSC',\n",
       " 'CHINA',\n",
       " 'HEALTHCARE',\n",
       " 'HONGKONGPROTESTS',\n",
       " 'STANDWITHHONGKONG',\n",
       " 'STRONGERTOGETHER',\n",
       " 'ANTICHINAZI',\n",
       " 'ANTIMASKLAW',\n",
       " 'IMPEACHTRUMPPENCEBARRPOMPEO',\n",
       " 'Weekday',\n",
       " 'Weekend',\n",
       " 'Afternoon',\n",
       " 'Early Morning',\n",
       " 'Evening',\n",
       " 'Morning',\n",
       " 'Night',\n",
       " 'TWITTER',\n",
       " 'LOL',\n",
       " 'RAPPING',\n",
       " 'WHAT%27S_HAPPENING%21%21',\n",
       " 'REPUBLICAN_PARTY_%28UNITED_STATES%29',\n",
       " 'BTS',\n",
       " 'NATIONAL_BASKETBALL_ASSOCIATION',\n",
       " 'BREXIT',\n",
       " 'IMPEACHMENT']"
      ]
     },
     "execution_count": 48,
     "metadata": {},
     "output_type": "execute_result"
    }
   ],
   "source": [
    "features"
   ]
  },
  {
   "cell_type": "code",
   "execution_count": 49,
   "metadata": {},
   "outputs": [
    {
     "data": {
      "text/plain": [
       "#Followers                                int64\n",
       "#Friends                                  int64\n",
       "#Retweets                                 int64\n",
       "#Favorites                                int64\n",
       "Positive                                  int32\n",
       "Negative                                  int32\n",
       "#Mentions                               float64\n",
       "#Hashtags                               float64\n",
       "REALDONALDTRUMP                           int64\n",
       "JAKETAPPER                                int64\n",
       "POTUS                                     int64\n",
       "YOUTUBE                                   int64\n",
       "CNN                                       int64\n",
       "NBA                                       int64\n",
       "SPEAKERPELOSI                             int64\n",
       "GOP                                       int64\n",
       "LINDSEYGRAHAMSC                           int64\n",
       "CHINA                                     int64\n",
       "HEALTHCARE                                int64\n",
       "HONGKONGPROTESTS                          int64\n",
       "STANDWITHHONGKONG                         int64\n",
       "STRONGERTOGETHER                          int64\n",
       "ANTICHINAZI                               int64\n",
       "ANTIMASKLAW                               int64\n",
       "IMPEACHTRUMPPENCEBARRPOMPEO               int64\n",
       "Weekday                                   uint8\n",
       "Weekend                                   uint8\n",
       "Afternoon                                 uint8\n",
       "Early Morning                             uint8\n",
       "Evening                                   uint8\n",
       "Morning                                   uint8\n",
       "Night                                     uint8\n",
       "TWITTER                                   int64\n",
       "LOL                                       int64\n",
       "RAPPING                                   int64\n",
       "WHAT%27S_HAPPENING%21%21                  int64\n",
       "REPUBLICAN_PARTY_%28UNITED_STATES%29      int64\n",
       "BTS                                       int64\n",
       "NATIONAL_BASKETBALL_ASSOCIATION           int64\n",
       "BREXIT                                    int64\n",
       "IMPEACHMENT                               int64\n",
       "dtype: object"
      ]
     },
     "execution_count": 49,
     "metadata": {},
     "output_type": "execute_result"
    }
   ],
   "source": [
    "cleaned_tweets.dtypes"
   ]
  },
  {
   "cell_type": "markdown",
   "metadata": {},
   "source": [
    "#### Run models for prediction"
   ]
  },
  {
   "cell_type": "code",
   "execution_count": 50,
   "metadata": {},
   "outputs": [
    {
     "data": {
      "text/plain": [
       "count    100000.000000\n",
       "mean         33.442620\n",
       "std         408.883046\n",
       "min           0.000000\n",
       "25%           0.000000\n",
       "50%           0.000000\n",
       "75%           6.000000\n",
       "max       79364.000000\n",
       "Name: #Retweets, dtype: float64"
      ]
     },
     "execution_count": 50,
     "metadata": {},
     "output_type": "execute_result"
    }
   ],
   "source": [
    "# first get a sense of the distribution of the outcome variable\n",
    "cleaned_tweets['#Retweets'].describe()"
   ]
  },
  {
   "cell_type": "code",
   "execution_count": 51,
   "metadata": {},
   "outputs": [
    {
     "data": {
      "text/plain": [
       "<matplotlib.axes._subplots.AxesSubplot at 0x1e439fb1e08>"
      ]
     },
     "execution_count": 51,
     "metadata": {},
     "output_type": "execute_result"
    },
    {
     "data": {
      "image/png": "[encoded data removed]",
      "text/plain": [
       "<Figure size 432x288 with 1 Axes>"
      ]
     },
     "metadata": {
      "needs_background": "light"
     },
     "output_type": "display_data"
    }
   ],
   "source": [
    "sns.boxplot(y=cleaned_tweets['#Retweets'])\n",
    "\n",
    "# note that there is one extreme outlier with 79364 retweets\n",
    "# after consideration, this outlier will not be removed from the data as it is a natural part of the variability of the dataset (i.e. not caused by measurement or data entry errors)\n",
    "# note that this may decrese the R-squared of our predictor models "
   ]
  },
  {
   "cell_type": "code",
   "execution_count": 52,
   "metadata": {},
   "outputs": [],
   "source": [
    "X=cleaned_tweets[features]\n",
    "y=cleaned_tweets['#Retweets']\n",
    "X_train, X_test, y_train, y_test = train_test_split(X, y, test_size=0.2, random_state=142)"
   ]
  },
  {
   "cell_type": "code",
   "execution_count": 53,
   "metadata": {},
   "outputs": [],
   "source": [
    "# because there are a lot of binary variables in the features, scale the data using fit_transform\n",
    "\n",
    "sc = StandardScaler()\n",
    "X_train = sc.fit_transform(X_train)\n",
    "X_test = sc.transform (X_test)"
   ]
  },
  {
   "cell_type": "code",
   "execution_count": 54,
   "metadata": {},
   "outputs": [],
   "source": [
    "def adj_r2(y_test, y_pred):\n",
    "    adj = 1-(1-r2_score(y_test, y_pred))*((len(X_test)-1)/(len(X_test)-len(X_test[0])-1))\n",
    "    return adj"
   ]
  },
  {
   "cell_type": "code",
   "execution_count": 55,
   "metadata": {},
   "outputs": [
    {
     "name": "stdout",
     "output_type": "stream",
     "text": [
      "The RMSE of the linear model is: 184.62089305163255\n",
      "The R2 is: 0.5332952254263219\n",
      "The adjusted R2 is: 0.5323598984568871\n"
     ]
    }
   ],
   "source": [
    "# try linear regression as baseline \n",
    "\n",
    "lin_reg=LinearRegression()\n",
    "lin_reg.fit(X_train, y_train)\n",
    "y_prediction=lin_reg.predict(X_test)\n",
    "RMSE = sqrt(mean_squared_error(y_true = y_test, y_pred = y_prediction))\n",
    "r2=r2_score(y_true = y_test, y_pred = y_prediction)\n",
    "print(\"The RMSE of the linear model is:\", RMSE)\n",
    "print(\"The R2 is:\", r2)\n",
    "print(\"The adjusted R2 is:\", adj_r2(y_test, y_prediction))"
   ]
  },
  {
   "cell_type": "code",
   "execution_count": 56,
   "metadata": {},
   "outputs": [
    {
     "name": "stdout",
     "output_type": "stream",
     "text": [
      "The RMSE of the lasso model is: 183.9825912353388\n",
      "The R2 is: 0.5365167842481111\n",
      "The adjusted R2 is: 0.535587913631844\n"
     ]
    }
   ],
   "source": [
    "# try lasso regression\n",
    "\n",
    "lasso_reg = Lasso()\n",
    "lasso_reg.fit(X_train, y_train)\n",
    "y_prediction = lasso_reg.predict(X_test)\n",
    "RMSE = sqrt(mean_squared_error(y_true = y_test, y_pred = y_prediction))\n",
    "r2=r2_score(y_true = y_test, y_pred = y_prediction)\n",
    "print(\"The RMSE of the lasso model is:\", RMSE)\n",
    "print(\"The R2 is:\", r2)\n",
    "print(\"The adjusted R2 is:\", adj_r2(y_test, y_prediction))"
   ]
  },
  {
   "cell_type": "code",
   "execution_count": 57,
   "metadata": {},
   "outputs": [
    {
     "name": "stdout",
     "output_type": "stream",
     "text": [
      "The RMSE of the ridge model is: 184.61816371137485\n",
      "The R2 is: 0.5333090243706673\n",
      "The adjusted R2 is: 0.5323737250558132\n"
     ]
    }
   ],
   "source": [
    "# try a ridge regression\n",
    "\n",
    "ridge_reg = Ridge()\n",
    "ridge_reg.fit(X_train, y_train)\n",
    "y_prediction = ridge_reg.predict(X_test)\n",
    "RMSE = sqrt(mean_squared_error(y_true = y_test, y_pred = y_prediction))\n",
    "r2=r2_score(y_true = y_test, y_pred = y_prediction)\n",
    "print(\"The RMSE of the ridge model is:\", RMSE)\n",
    "print(\"The R2 is:\", r2)\n",
    "print(\"The adjusted R2 is:\", adj_r2(y_test, y_prediction))"
   ]
  },
  {
   "cell_type": "code",
   "execution_count": 58,
   "metadata": {},
   "outputs": [
    {
     "name": "stdout",
     "output_type": "stream",
     "text": [
      "The RMSE of the decision tree model is: 186.96170842434586\n",
      "The R2 is: 0.5213854634777408\n",
      "The adjusted R2 is: 0.5204262680540778\n"
     ]
    }
   ],
   "source": [
    "# Decision tree:\n",
    "\n",
    "tree=DecisionTreeRegressor()\n",
    "tree.fit(X_train, y_train)\n",
    "y_prediction=tree.predict(X_test)\n",
    "RMSE = sqrt(mean_squared_error(y_true = y_test, y_pred = y_prediction))\n",
    "r2=r2_score(y_true = y_test, y_pred = y_prediction)\n",
    "print(\"The RMSE of the decision tree model is:\", RMSE)\n",
    "print(\"The R2 is:\", r2)\n",
    "print(\"The adjusted R2 is:\", adj_r2(y_test, y_prediction))"
   ]
  },
  {
   "cell_type": "code",
   "execution_count": 59,
   "metadata": {},
   "outputs": [
    {
     "name": "stdout",
     "output_type": "stream",
     "text": [
      "The RMSE of the random forest model is: 160.41255849791213\n",
      "The R2 is: 0.6476637884087859\n",
      "The adjusted R2 is: 0.6469576684396667\n"
     ]
    }
   ],
   "source": [
    "# Random forest:\n",
    "\n",
    "rd_forest=RandomForestRegressor(max_depth=10)\n",
    "rd_forest.fit(X_train, y_train)\n",
    "y_prediction=rd_forest.predict(X_test)\n",
    "RMSE = sqrt(mean_squared_error(y_true = y_test, y_pred = y_prediction))\n",
    "r2=r2_score(y_true = y_test, y_pred = y_prediction)\n",
    "print(\"The RMSE of the random forest model is:\", RMSE)\n",
    "print(\"The R2 is:\", r2)\n",
    "print(\"The adjusted R2 is:\", adj_r2(y_test, y_prediction))"
   ]
  },
  {
   "cell_type": "markdown",
   "metadata": {},
   "source": [
    "Best model as evaluated by RMSE:"
   ]
  },
  {
   "cell_type": "code",
   "execution_count": 60,
   "metadata": {},
   "outputs": [
    {
     "name": "stdout",
     "output_type": "stream",
     "text": [
      "The RMSE of the XGboost model is: 153.72559905797323\n",
      "The R2 is: 0.6764265068710451\n",
      "The adjusted R2 is: 0.6757780305082435\n"
     ]
    }
   ],
   "source": [
    "# try using XGboost: \n",
    "\n",
    "XGB_reg = XGBRegressor(booster='gbtree')\n",
    "XGB_reg.fit(X_train, y_train)\n",
    "y_prediction=XGB_reg.predict(X_test)\n",
    "RMSE = sqrt(mean_squared_error(y_true = y_test, y_pred = y_prediction))\n",
    "r2=r2_score(y_true = y_test, y_pred = y_prediction)\n",
    "print(\"The RMSE of the XGboost model is:\", RMSE)\n",
    "print(\"The R2 is:\", r2)\n",
    "print(\"The adjusted R2 is:\", adj_r2(y_test, y_prediction))\n",
    "\n",
    "#NOTE: this is the best performing model that minimizes RMSE\n",
    "#R2 is not very high, indicating that there is still a portion of variability in the outcome that is not explained by the model "
   ]
  },
  {
   "cell_type": "code",
   "execution_count": 61,
   "metadata": {},
   "outputs": [
    {
     "name": "stdout",
     "output_type": "stream",
     "text": [
      "The RMSE of the XGBoost linear model is: 184.62067018202328\n",
      "The R2 is: 0.5332963522137211\n",
      "The adjusted R2 is: 0.5323610275024904\n"
     ]
    }
   ],
   "source": [
    "# try using XGboost linear: \n",
    "\n",
    "XGB_reg = XGBRegressor(booster='gblinear')\n",
    "XGB_reg.fit(X_train, y_train)\n",
    "y_prediction=XGB_reg.predict(X_test)\n",
    "RMSE = sqrt(mean_squared_error(y_true = y_test, y_pred = y_prediction))\n",
    "r2=r2_score(y_true = y_test, y_pred = y_prediction)\n",
    "print(\"The RMSE of the XGBoost linear model is:\", RMSE)\n",
    "print(\"The R2 is:\", r2)\n",
    "print(\"The adjusted R2 is:\", adj_r2(y_test, y_prediction))"
   ]
  },
  {
   "cell_type": "code",
   "execution_count": 62,
   "metadata": {},
   "outputs": [
    {
     "name": "stdout",
     "output_type": "stream",
     "text": [
      "The RMSE of the PCA + linear model is: 269.60390194369796\n",
      "The R2 is: 0.004748373786540028\n",
      "The adjusted R2 is: 0.0027537816201719245\n"
     ]
    }
   ],
   "source": [
    "# lastly, try PCA then linear regression\n",
    "\n",
    "pca=make_pipeline(PCA(n_components=5), LinearRegression())\n",
    "pca.fit(X_train, y_train)\n",
    "y_prediction=pca.predict(X_test)\n",
    "RMSE = sqrt(mean_squared_error(y_true = y_test, y_pred = y_prediction))\n",
    "r2=r2_score(y_true = y_test, y_pred = y_prediction)\n",
    "print(\"The RMSE of the PCA + linear model is:\", RMSE)\n",
    "print(\"The R2 is:\", r2)\n",
    "print(\"The adjusted R2 is:\", adj_r2(y_test, y_prediction))"
   ]
  },
  {
   "cell_type": "code",
   "execution_count": 63,
   "metadata": {},
   "outputs": [],
   "source": [
    "# the extra features added for entity, mention, and hashtag flags may be causing overfitting \n",
    "# and subsequent large RMSE errors in prediction\n",
    "# to remedy this issue, try combining the entity, mention, and hashtag columns into a raw score column \n",
    "# for example, sum the number of mentions in a tweet that was in the top 10 mention list \n",
    "\n",
    "cleaned2=cleaned_tweets.copy()"
   ]
  },
  {
   "cell_type": "code",
   "execution_count": 64,
   "metadata": {},
   "outputs": [],
   "source": [
    "cleaned2['mentions_score']=0\n",
    "for i in top_mentions:\n",
    "    if i in cleaned2.columns:\n",
    "        cleaned2['mentions_score']+=cleaned2[i]"
   ]
  },
  {
   "cell_type": "code",
   "execution_count": 65,
   "metadata": {},
   "outputs": [],
   "source": [
    "cleaned2['hashtags_score']=0\n",
    "for i in top_hashtags:\n",
    "    if i in cleaned2.columns:\n",
    "        cleaned2['hashtags_score']+=cleaned2[i]"
   ]
  },
  {
   "cell_type": "code",
   "execution_count": 66,
   "metadata": {},
   "outputs": [],
   "source": [
    "cleaned2['entities_score']=0\n",
    "for i in top_ents:\n",
    "    if i in cleaned2.columns:\n",
    "        cleaned2['entities_score']+=cleaned2[i]"
   ]
  },
  {
   "cell_type": "code",
   "execution_count": 67,
   "metadata": {},
   "outputs": [
    {
     "data": {
      "text/plain": [
       "Index(['#Followers', '#Friends', '#Retweets', '#Favorites', 'Positive',\n",
       "       'Negative', '#Mentions', '#Hashtags', 'REALDONALDTRUMP', 'JAKETAPPER',\n",
       "       'POTUS', 'YOUTUBE', 'CNN', 'NBA', 'SPEAKERPELOSI', 'GOP',\n",
       "       'LINDSEYGRAHAMSC', 'CHINA', 'HEALTHCARE', 'HONGKONGPROTESTS',\n",
       "       'STANDWITHHONGKONG', 'STRONGERTOGETHER', 'ANTICHINAZI', 'ANTIMASKLAW',\n",
       "       'IMPEACHTRUMPPENCEBARRPOMPEO', 'Weekday', 'Weekend', 'Afternoon',\n",
       "       'Early Morning', 'Evening', 'Morning', 'Night', 'TWITTER', 'LOL',\n",
       "       'RAPPING', 'WHAT%27S_HAPPENING%21%21',\n",
       "       'REPUBLICAN_PARTY_%28UNITED_STATES%29', 'BTS',\n",
       "       'NATIONAL_BASKETBALL_ASSOCIATION', 'BREXIT', 'IMPEACHMENT',\n",
       "       'mentions_score', 'hashtags_score', 'entities_score'],\n",
       "      dtype='object')"
      ]
     },
     "execution_count": 67,
     "metadata": {},
     "output_type": "execute_result"
    }
   ],
   "source": [
    "cleaned2.columns"
   ]
  },
  {
   "cell_type": "code",
   "execution_count": 68,
   "metadata": {},
   "outputs": [],
   "source": [
    "feats2=['#Followers', '#Friends', '#Favorites', 'Positive', 'Negative', '#Mentions','#Hashtags', 'Weekday', 'Weekend', 'Afternoon', 'Night', 'Early Morning', 'Morning', 'mentions_score', 'entities_score', 'hashtags_score']\n"
   ]
  },
  {
   "cell_type": "code",
   "execution_count": 69,
   "metadata": {},
   "outputs": [],
   "source": [
    "X2=cleaned2[feats2]\n",
    "y2=cleaned2['#Retweets']\n",
    "X_train2, X_test2, y_train2, y_test2 = train_test_split(X2, y2, test_size=0.2, random_state=142)\n",
    "sc2 = StandardScaler()\n",
    "X_train2 = sc2.fit_transform(X_train2)\n",
    "X_test2 = sc2.transform (X_test2)"
   ]
  },
  {
   "cell_type": "code",
   "execution_count": 70,
   "metadata": {},
   "outputs": [
    {
     "name": "stdout",
     "output_type": "stream",
     "text": [
      "The RMSE of the linear model is: 184.6217284696316\n",
      "The R2 is: 0.5332910016957935\n",
      "The adjusted R2 is: 0.5323556662615447\n"
     ]
    }
   ],
   "source": [
    "# linear regression\n",
    "\n",
    "lin_reg=LinearRegression()\n",
    "lin_reg.fit(X_train2, y_train2)\n",
    "y_prediction=lin_reg.predict(X_test2)\n",
    "RMSE = sqrt(mean_squared_error(y_true = y_test2, y_pred = y_prediction))\n",
    "r2=r2_score(y_true = y_test2, y_pred = y_prediction)\n",
    "print(\"The RMSE of the linear model is:\", RMSE)\n",
    "print(\"The R2 is:\", r2)\n",
    "print(\"The adjusted R2 is:\", adj_r2(y_test2, y_prediction))"
   ]
  },
  {
   "cell_type": "code",
   "execution_count": 71,
   "metadata": {},
   "outputs": [
    {
     "name": "stdout",
     "output_type": "stream",
     "text": [
      "The RMSE of the ridge model is: 184.61922955634836\n",
      "The R2 is: 0.5333036357170655\n",
      "The adjusted R2 is: 0.5323683256027654\n"
     ]
    }
   ],
   "source": [
    "# ridge regression\n",
    "ridge_reg = Ridge()\n",
    "ridge_reg.fit(X_train2, y_train2)\n",
    "y_prediction = ridge_reg.predict(X_test2)\n",
    "RMSE = sqrt(mean_squared_error(y_true = y_test2, y_pred = y_prediction))\n",
    "r2=r2_score(y_true = y_test2, y_pred = y_prediction)\n",
    "print(\"The RMSE of the ridge model is:\", RMSE)\n",
    "print(\"The R2 is:\", r2)\n",
    "print(\"The adjusted R2 is:\", adj_r2(y_test2, y_prediction))"
   ]
  },
  {
   "cell_type": "code",
   "execution_count": 72,
   "metadata": {},
   "outputs": [
    {
     "name": "stdout",
     "output_type": "stream",
     "text": [
      "The RMSE of the random forest model is: 161.0640133686736\n",
      "The R2 is: 0.6447962171880197\n",
      "The adjusted R2 is: 0.6440843502952656\n"
     ]
    }
   ],
   "source": [
    "# Random forest\n",
    "\n",
    "rd_forest=RandomForestRegressor(max_depth=10)\n",
    "rd_forest.fit(X_train2, y_train2)\n",
    "y_prediction=rd_forest.predict(X_test2)\n",
    "RMSE = sqrt(mean_squared_error(y_true = y_test2, y_pred = y_prediction))\n",
    "r2=r2_score(y_true = y_test2, y_pred = y_prediction)\n",
    "print(\"The RMSE of the random forest model is:\", RMSE)\n",
    "print(\"The R2 is:\", r2)\n",
    "print(\"The adjusted R2 is:\", adj_r2(y_test2, y_prediction))"
   ]
  },
  {
   "cell_type": "code",
   "execution_count": 73,
   "metadata": {},
   "outputs": [
    {
     "name": "stdout",
     "output_type": "stream",
     "text": [
      "The RMSE of the XGboost model is: 156.74772840273732\n",
      "The R2 is: 0.6635790285614547\n",
      "The adjusted R2 is: 0.6629048044591679\n"
     ]
    }
   ],
   "source": [
    "# try using XGboost \n",
    "\n",
    "XGB_reg2 = XGBRegressor(booster='gbtree')\n",
    "XGB_reg2.fit(X_train2, y_train2)\n",
    "y_prediction=XGB_reg2.predict(X_test2)\n",
    "RMSE = sqrt(mean_squared_error(y_true = y_test2, y_pred = y_prediction))\n",
    "r2=r2_score(y_true = y_test2, y_pred = y_prediction)\n",
    "print(\"The RMSE of the XGboost model is:\", RMSE)\n",
    "print(\"The R2 is:\", r2)\n",
    "print(\"The adjusted R2 is:\", adj_r2(y_test2, y_prediction))"
   ]
  },
  {
   "cell_type": "code",
   "execution_count": null,
   "metadata": {},
   "outputs": [],
   "source": []
  }
 ],
 "metadata": {
  "kernelspec": {
   "display_name": "Python 3",
   "language": "python",
   "name": "python3"
  },
  "language_info": {
   "codemirror_mode": {
    "name": "ipython",
    "version": 3
   },
   "file_extension": ".py",
   "mimetype": "text/x-python",
   "name": "python",
   "nbconvert_exporter": "python",
   "pygments_lexer": "ipython3",
   "version": "3.7.7"
  }
 },
 "nbformat": 4,
 "nbformat_minor": 4
}
