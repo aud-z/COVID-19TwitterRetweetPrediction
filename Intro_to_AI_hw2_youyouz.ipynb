{
 "cells": [
  {
   "cell_type": "markdown",
   "metadata": {},
   "source": [
    "## Intro to AI Assignment 2: Predicting the popularity (retweets) of COVID-19 related tweets\n",
    "### Audrey Zhang"
   ]
  },
  {
   "cell_type": "markdown",
   "metadata": {},
   "source": [
    "Answers to assignment questions:\n",
    "2c: The plots show that the # of followers and # of friends for the tweets in the dataset are normally distributed. The # of favorites is also somewhat similar to a normal distribution, but has a second peak at 0. This is likely caused by the large number of tweets that only had 0-1 favorites. \n",
    "\n",
    "The corelation matrix signifies that the # of favorites on a tweet is most highly correlated with the tweet's popularity (# retweet), with a correlation coefficient of 0.89. This is followed by the # of followers with a correlation coefficient of 0.13. \n",
    "\n",
    "The +/- signs indicate the direction of the correlation. + indicates positive correlation. For example, a higher # of favorites is correlated with a higher # of retweets. In contrast, - indicates negative correlation. An increase in the negative sentiment score is correlated with a lower # of retweets."
   ]
  },
  {
   "cell_type": "markdown",
   "metadata": {},
   "source": [
    "Initial data cleaning and feature creation"
   ]
  },
  {
   "cell_type": "code",
   "execution_count": 420,
   "metadata": {},
   "outputs": [],
   "source": [
    "# import libraries\n",
    "import numpy as np\n",
    "import pandas as pd\n",
    "import itertools\n",
    "from collections import Counter\n",
    "import seaborn as sns\n",
    "import matplotlib.pyplot as plt\n",
    "import re"
   ]
  },
  {
   "cell_type": "code",
   "execution_count": 216,
   "metadata": {},
   "outputs": [],
   "source": [
    "tweets=pd.read_csv('./hw2.csv')"
   ]
  },
  {
   "cell_type": "code",
   "execution_count": 3,
   "metadata": {},
   "outputs": [
    {
     "data": {
      "text/html": [
       "<div>\n",
       "<style scoped>\n",
       "    .dataframe tbody tr th:only-of-type {\n",
       "        vertical-align: middle;\n",
       "    }\n",
       "\n",
       "    .dataframe tbody tr th {\n",
       "        vertical-align: top;\n",
       "    }\n",
       "\n",
       "    .dataframe thead th {\n",
       "        text-align: right;\n",
       "    }\n",
       "</style>\n",
       "<table border=\"1\" class=\"dataframe\">\n",
       "  <thead>\n",
       "    <tr style=\"text-align: right;\">\n",
       "      <th></th>\n",
       "      <th>Tweet ID</th>\n",
       "      <th>Username</th>\n",
       "      <th>Timestamp</th>\n",
       "      <th>#Followers</th>\n",
       "      <th>#Friends</th>\n",
       "      <th>#Retweets</th>\n",
       "      <th>#Favorites</th>\n",
       "      <th>Entities</th>\n",
       "      <th>Sentiment</th>\n",
       "      <th>Mentions</th>\n",
       "      <th>Hashtags</th>\n",
       "      <th>URLs</th>\n",
       "    </tr>\n",
       "  </thead>\n",
       "  <tbody>\n",
       "    <tr>\n",
       "      <th>0</th>\n",
       "      <td>1178791787386814465</td>\n",
       "      <td>35234fe4a19cc1a3336095fb3780bcc1</td>\n",
       "      <td>Mon Sep 30 22:00:37 +0000 2019</td>\n",
       "      <td>619</td>\n",
       "      <td>770</td>\n",
       "      <td>0</td>\n",
       "      <td>0</td>\n",
       "      <td>null;</td>\n",
       "      <td>2 -1</td>\n",
       "      <td>null;</td>\n",
       "      <td>null;</td>\n",
       "      <td>null;</td>\n",
       "    </tr>\n",
       "    <tr>\n",
       "      <th>1</th>\n",
       "      <td>1178791985106153472</td>\n",
       "      <td>ea4592f39636d87af8fb4b17b7e2e4c0</td>\n",
       "      <td>Mon Sep 30 22:01:24 +0000 2019</td>\n",
       "      <td>36365</td>\n",
       "      <td>19344</td>\n",
       "      <td>13</td>\n",
       "      <td>17</td>\n",
       "      <td>nazi:Nazism:-2.742538749414189;blood money:Blo...</td>\n",
       "      <td>1 -4</td>\n",
       "      <td>null;</td>\n",
       "      <td>null;</td>\n",
       "      <td>https://twitter.com/himalayahawk/status/117766...</td>\n",
       "    </tr>\n",
       "    <tr>\n",
       "      <th>2</th>\n",
       "      <td>1178793230223183872</td>\n",
       "      <td>bf05d1888dd974fa4a8679c25e2ead03</td>\n",
       "      <td>Mon Sep 30 22:06:21 +0000 2019</td>\n",
       "      <td>5018</td>\n",
       "      <td>1933</td>\n",
       "      <td>0</td>\n",
       "      <td>0</td>\n",
       "      <td>vaccine:Vaccine:-2.6651530673745762;anti vaxxe...</td>\n",
       "      <td>2 -1</td>\n",
       "      <td>null;</td>\n",
       "      <td>null;</td>\n",
       "      <td>https://goo.gl/fb/uoeiPk:-:</td>\n",
       "    </tr>\n",
       "    <tr>\n",
       "      <th>3</th>\n",
       "      <td>1178795172206919680</td>\n",
       "      <td>eb8a99bca8945eab1d006750e9b75518</td>\n",
       "      <td>Mon Sep 30 22:14:04 +0000 2019</td>\n",
       "      <td>2219</td>\n",
       "      <td>971</td>\n",
       "      <td>0</td>\n",
       "      <td>0</td>\n",
       "      <td>muse:Muse_%28band%29:-2.1677823918620867;talki...</td>\n",
       "      <td>2 -1</td>\n",
       "      <td>null;</td>\n",
       "      <td>null;</td>\n",
       "      <td>null;</td>\n",
       "    </tr>\n",
       "    <tr>\n",
       "      <th>4</th>\n",
       "      <td>1178798309491822592</td>\n",
       "      <td>00695cf79d60e86a5d0f872f4358337a</td>\n",
       "      <td>Mon Sep 30 22:26:32 +0000 2019</td>\n",
       "      <td>9009</td>\n",
       "      <td>4943</td>\n",
       "      <td>26</td>\n",
       "      <td>89</td>\n",
       "      <td>people of northern ireland:People_of_Northern_...</td>\n",
       "      <td>2 -1</td>\n",
       "      <td>null;</td>\n",
       "      <td>VFS</td>\n",
       "      <td>null;</td>\n",
       "    </tr>\n",
       "  </tbody>\n",
       "</table>\n",
       "</div>"
      ],
      "text/plain": [
       "              Tweet ID                          Username  \\\n",
       "0  1178791787386814465  35234fe4a19cc1a3336095fb3780bcc1   \n",
       "1  1178791985106153472  ea4592f39636d87af8fb4b17b7e2e4c0   \n",
       "2  1178793230223183872  bf05d1888dd974fa4a8679c25e2ead03   \n",
       "3  1178795172206919680  eb8a99bca8945eab1d006750e9b75518   \n",
       "4  1178798309491822592  00695cf79d60e86a5d0f872f4358337a   \n",
       "\n",
       "                        Timestamp  #Followers  #Friends  #Retweets  \\\n",
       "0  Mon Sep 30 22:00:37 +0000 2019         619       770          0   \n",
       "1  Mon Sep 30 22:01:24 +0000 2019       36365     19344         13   \n",
       "2  Mon Sep 30 22:06:21 +0000 2019        5018      1933          0   \n",
       "3  Mon Sep 30 22:14:04 +0000 2019        2219       971          0   \n",
       "4  Mon Sep 30 22:26:32 +0000 2019        9009      4943         26   \n",
       "\n",
       "   #Favorites                                           Entities Sentiment  \\\n",
       "0           0                                              null;      2 -1   \n",
       "1          17  nazi:Nazism:-2.742538749414189;blood money:Blo...      1 -4   \n",
       "2           0  vaccine:Vaccine:-2.6651530673745762;anti vaxxe...      2 -1   \n",
       "3           0  muse:Muse_%28band%29:-2.1677823918620867;talki...      2 -1   \n",
       "4          89  people of northern ireland:People_of_Northern_...      2 -1   \n",
       "\n",
       "  Mentions Hashtags                                               URLs  \n",
       "0    null;    null;                                              null;  \n",
       "1    null;    null;  https://twitter.com/himalayahawk/status/117766...  \n",
       "2    null;    null;                        https://goo.gl/fb/uoeiPk:-:  \n",
       "3    null;    null;                                              null;  \n",
       "4    null;      VFS                                              null;  "
      ]
     },
     "execution_count": 3,
     "metadata": {},
     "output_type": "execute_result"
    }
   ],
   "source": [
    "tweets.head()"
   ]
  },
  {
   "cell_type": "code",
   "execution_count": 217,
   "metadata": {},
   "outputs": [],
   "source": [
    "# break out sentiment variable into positive and negative\n",
    "tweets['Positive']=tweets['Sentiment'].str.slice(0, 1).astype(int)\n",
    "tweets['Negative']=tweets['Sentiment'].str.slice(-2).astype(int)"
   ]
  },
  {
   "cell_type": "code",
   "execution_count": 362,
   "metadata": {},
   "outputs": [],
   "source": [
    "# analyze the mentions column \n",
    "men=tweets['Mentions'].dropna(axis=0).str.split()"
   ]
  },
  {
   "cell_type": "code",
   "execution_count": 363,
   "metadata": {},
   "outputs": [],
   "source": [
    "# create list of lists for each item in a mention for each tweet \n",
    "mentions=[i.strip().upper() for i in list(itertools.chain.from_iterable(men.to_list())) if 'null' not in i]"
   ]
  },
  {
   "cell_type": "code",
   "execution_count": 364,
   "metadata": {},
   "outputs": [],
   "source": [
    "# create a dictionary to store all mentions that appeared over 10 times\n",
    "mentions_dict={x: count for x, count in Counter(mentions).items() if count >=10}"
   ]
  },
  {
   "cell_type": "code",
   "execution_count": 365,
   "metadata": {},
   "outputs": [
    {
     "data": {
      "text/plain": [
       "['REALDONALDTRUMP',\n",
       " 'JAKETAPPER',\n",
       " 'BTS_TWT',\n",
       " 'POTUS',\n",
       " 'YOUTUBE',\n",
       " 'CNN',\n",
       " 'NBA',\n",
       " 'SPEAKERPELOSI',\n",
       " 'GOP',\n",
       " 'LINDSEYGRAHAMSC']"
      ]
     },
     "execution_count": 365,
     "metadata": {},
     "output_type": "execute_result"
    }
   ],
   "source": [
    "# take a look at the highest count mentions (top 10) and store in a list \n",
    "top_mentions=sorted(mentions_dict, key=mentions_dict.get, reverse=True)[:10]\n",
    "top_mentions"
   ]
  },
  {
   "cell_type": "code",
   "execution_count": 352,
   "metadata": {},
   "outputs": [],
   "source": [
    "# analyze the hashtag column\n",
    "hsh=tweets['Hashtags'].dropna(axis=0).str.split()"
   ]
  },
  {
   "cell_type": "code",
   "execution_count": 353,
   "metadata": {},
   "outputs": [],
   "source": [
    "hashtags=[i.strip().upper() for i in list(itertools.chain.from_iterable(hsh.to_list())) if 'null' not in i]"
   ]
  },
  {
   "cell_type": "code",
   "execution_count": 354,
   "metadata": {},
   "outputs": [],
   "source": [
    "hashtags_dict={x: count for x, count in Counter(hashtags).items() if count >=10}"
   ]
  },
  {
   "cell_type": "code",
   "execution_count": 355,
   "metadata": {},
   "outputs": [
    {
     "data": {
      "text/plain": [
       "['CHINA',\n",
       " 'HEALTHCARE',\n",
       " 'HONGKONG',\n",
       " 'HONGKONGPROTESTS',\n",
       " 'STANDWITHHONGKONG',\n",
       " 'CHINAZI',\n",
       " 'STRONGERTOGETHER',\n",
       " 'ANTICHINAZI',\n",
       " 'ANTIMASKLAW',\n",
       " 'IMPEACHTRUMPPENCEBARRPOMPEO']"
      ]
     },
     "execution_count": 355,
     "metadata": {},
     "output_type": "execute_result"
    }
   ],
   "source": [
    "top_hashtags=sorted(hashtags_dict, key=hashtags_dict.get, reverse=True)[:10]\n",
    "top_hashtags"
   ]
  },
  {
   "cell_type": "code",
   "execution_count": 218,
   "metadata": {},
   "outputs": [],
   "source": [
    "# create a variable for the # create variable for # of mentions for each tweet, excluding those that have 'null' in the mentions column\n",
    "tweets['#Mentions']=tweets[(tweets['Mentions'].isnull()==False) & (tweets['Mentions'].str.contains('null')==False)]['Mentions'].str.split().apply(len)"
   ]
  },
  {
   "cell_type": "code",
   "execution_count": 310,
   "metadata": {},
   "outputs": [],
   "source": [
    "tweets['#Mentions'].fillna(0, inplace=True)"
   ]
  },
  {
   "cell_type": "code",
   "execution_count": 220,
   "metadata": {},
   "outputs": [
    {
     "data": {
      "text/plain": [
       "0        0.0\n",
       "1        0.0\n",
       "2        0.0\n",
       "3        0.0\n",
       "4        0.0\n",
       "        ... \n",
       "99995    1.0\n",
       "99996    1.0\n",
       "99997    0.0\n",
       "99998    0.0\n",
       "99999    0.0\n",
       "Name: #Mentions, Length: 100000, dtype: float64"
      ]
     },
     "execution_count": 220,
     "metadata": {},
     "output_type": "execute_result"
    }
   ],
   "source": [
    "tweets['#Mentions']"
   ]
  },
  {
   "cell_type": "code",
   "execution_count": 221,
   "metadata": {},
   "outputs": [],
   "source": [
    "# similarly, create # of hashtags for each tweet, excluding those with 'null'\n",
    "tweets['#Hashtags']=tweets[(tweets['Hashtags'].isnull()==False) & (tweets['Hashtags'].str.contains('null')==False)]['Hashtags'].str.split().apply(len)"
   ]
  },
  {
   "cell_type": "code",
   "execution_count": 311,
   "metadata": {},
   "outputs": [],
   "source": [
    "tweets['#Hashtags'].fillna(0, inplace=True)"
   ]
  },
  {
   "cell_type": "code",
   "execution_count": 223,
   "metadata": {},
   "outputs": [
    {
     "data": {
      "text/plain": [
       "Tweet ID        0\n",
       "Username        0\n",
       "Timestamp       0\n",
       "#Followers      0\n",
       "#Friends        0\n",
       "#Retweets       0\n",
       "#Favorites      0\n",
       "Entities        0\n",
       "Sentiment       0\n",
       "Mentions      233\n",
       "Hashtags       31\n",
       "URLs            0\n",
       "Positive        0\n",
       "Negative        0\n",
       "#Mentions       0\n",
       "#Hashtags       0\n",
       "dtype: int64"
      ]
     },
     "execution_count": 223,
     "metadata": {},
     "output_type": "execute_result"
    }
   ],
   "source": [
    "# check for missing values\n",
    "tweets.isnull().sum()"
   ]
  },
  {
   "cell_type": "code",
   "execution_count": 225,
   "metadata": {},
   "outputs": [],
   "source": [
    "# for missing hashtags or tweets, fill with blank string \n",
    "tweets['Hashtags'].fillna('', inplace=True)\n",
    "tweets['Mentions'].fillna('', inplace=True)"
   ]
  },
  {
   "cell_type": "markdown",
   "metadata": {},
   "source": [
    "Exploratory data analysis "
   ]
  },
  {
   "cell_type": "code",
   "execution_count": 294,
   "metadata": {},
   "outputs": [
    {
     "data": {
      "image/png": "[encoded data removed]",
      "text/plain": [
       "<Figure size 432x288 with 1 Axes>"
      ]
     },
     "metadata": {
      "needs_background": "light"
     },
     "output_type": "display_data"
    }
   ],
   "source": [
    "# plot the distribution of # of followers (log)\n",
    "ax1=np.log10(tweets['#Followers']+1).plot(kind='hist', bins=30, edgecolor='w', title=\"Log Distribution of # of Followers\")"
   ]
  },
  {
   "cell_type": "code",
   "execution_count": 295,
   "metadata": {},
   "outputs": [
    {
     "data": {
      "text/plain": [
       "<matplotlib.axes._subplots.AxesSubplot at 0x157e51eb448>"
      ]
     },
     "execution_count": 295,
     "metadata": {},
     "output_type": "execute_result"
    },
    {
     "data": {
      "image/png": "[encoded data removed]",
      "text/plain": [
       "<Figure size 432x288 with 1 Axes>"
      ]
     },
     "metadata": {
      "needs_background": "light"
     },
     "output_type": "display_data"
    }
   ],
   "source": [
    "# distribution of # of friends (log)\n",
    "np.log10(tweets['#Friends']+1).plot(kind='hist', bins=30, edgecolor='w', title='Log Distribution of # of Friends')"
   ]
  },
  {
   "cell_type": "code",
   "execution_count": 296,
   "metadata": {},
   "outputs": [
    {
     "data": {
      "text/plain": [
       "<matplotlib.axes._subplots.AxesSubplot at 0x157e5373d88>"
      ]
     },
     "execution_count": 296,
     "metadata": {},
     "output_type": "execute_result"
    },
    {
     "data": {
      "image/png": "[encoded data removed]",
      "text/plain": [
       "<Figure size 432x288 with 1 Axes>"
      ]
     },
     "metadata": {
      "needs_background": "light"
     },
     "output_type": "display_data"
    }
   ],
   "source": [
    "# distribution of # of favorites (log)\n",
    "np.log10(tweets['#Favorites']+1).plot(kind='hist', bins=30, edgecolor='w', title='Log Distribution of # of Favorites')"
   ]
  },
  {
   "cell_type": "code",
   "execution_count": 298,
   "metadata": {},
   "outputs": [
    {
     "data": {
      "text/plain": [
       "<matplotlib.axes._subplots.AxesSubplot at 0x157e52c7c08>"
      ]
     },
     "execution_count": 298,
     "metadata": {},
     "output_type": "execute_result"
    },
    {
     "data": {
      "image/png": "[encoded data removed]",
      "text/plain": [
       "<Figure size 432x288 with 1 Axes>"
      ]
     },
     "metadata": {
      "needs_background": "light"
     },
     "output_type": "display_data"
    }
   ],
   "source": [
    "# distribution of # of favorites (log) without zeros \n",
    "np.log10(tweets['#Favorites'].replace(0, np.nan)).plot(kind='hist', bins=30, edgecolor='w', title='Log Distribution of # of Favorites')"
   ]
  },
  {
   "cell_type": "code",
   "execution_count": 271,
   "metadata": {},
   "outputs": [
    {
     "data": {
      "text/html": [
       "<div>\n",
       "<style scoped>\n",
       "    .dataframe tbody tr th:only-of-type {\n",
       "        vertical-align: middle;\n",
       "    }\n",
       "\n",
       "    .dataframe tbody tr th {\n",
       "        vertical-align: top;\n",
       "    }\n",
       "\n",
       "    .dataframe thead th {\n",
       "        text-align: right;\n",
       "    }\n",
       "</style>\n",
       "<table border=\"1\" class=\"dataframe\">\n",
       "  <thead>\n",
       "    <tr style=\"text-align: right;\">\n",
       "      <th></th>\n",
       "      <th>#Favorites</th>\n",
       "      <th>#Followers</th>\n",
       "      <th>#Friends</th>\n",
       "      <th>Positive</th>\n",
       "      <th>Negative</th>\n",
       "      <th>#Retweets</th>\n",
       "    </tr>\n",
       "  </thead>\n",
       "  <tbody>\n",
       "    <tr>\n",
       "      <th>#Favorites</th>\n",
       "      <td>1.000000</td>\n",
       "      <td>0.172158</td>\n",
       "      <td>0.017877</td>\n",
       "      <td>0.002533</td>\n",
       "      <td>-0.003889</td>\n",
       "      <td>0.890328</td>\n",
       "    </tr>\n",
       "    <tr>\n",
       "      <th>#Followers</th>\n",
       "      <td>0.172158</td>\n",
       "      <td>1.000000</td>\n",
       "      <td>0.011337</td>\n",
       "      <td>-0.027071</td>\n",
       "      <td>0.008711</td>\n",
       "      <td>0.134503</td>\n",
       "    </tr>\n",
       "    <tr>\n",
       "      <th>#Friends</th>\n",
       "      <td>0.017877</td>\n",
       "      <td>0.011337</td>\n",
       "      <td>1.000000</td>\n",
       "      <td>-0.000555</td>\n",
       "      <td>-0.007891</td>\n",
       "      <td>0.026502</td>\n",
       "    </tr>\n",
       "    <tr>\n",
       "      <th>Positive</th>\n",
       "      <td>0.002533</td>\n",
       "      <td>-0.027071</td>\n",
       "      <td>-0.000555</td>\n",
       "      <td>1.000000</td>\n",
       "      <td>-0.039849</td>\n",
       "      <td>0.000433</td>\n",
       "    </tr>\n",
       "    <tr>\n",
       "      <th>Negative</th>\n",
       "      <td>-0.003889</td>\n",
       "      <td>0.008711</td>\n",
       "      <td>-0.007891</td>\n",
       "      <td>-0.039849</td>\n",
       "      <td>1.000000</td>\n",
       "      <td>-0.010565</td>\n",
       "    </tr>\n",
       "    <tr>\n",
       "      <th>#Retweets</th>\n",
       "      <td>0.890328</td>\n",
       "      <td>0.134503</td>\n",
       "      <td>0.026502</td>\n",
       "      <td>0.000433</td>\n",
       "      <td>-0.010565</td>\n",
       "      <td>1.000000</td>\n",
       "    </tr>\n",
       "  </tbody>\n",
       "</table>\n",
       "</div>"
      ],
      "text/plain": [
       "            #Favorites  #Followers  #Friends  Positive  Negative  #Retweets\n",
       "#Favorites    1.000000    0.172158  0.017877  0.002533 -0.003889   0.890328\n",
       "#Followers    0.172158    1.000000  0.011337 -0.027071  0.008711   0.134503\n",
       "#Friends      0.017877    0.011337  1.000000 -0.000555 -0.007891   0.026502\n",
       "Positive      0.002533   -0.027071 -0.000555  1.000000 -0.039849   0.000433\n",
       "Negative     -0.003889    0.008711 -0.007891 -0.039849  1.000000  -0.010565\n",
       "#Retweets     0.890328    0.134503  0.026502  0.000433 -0.010565   1.000000"
      ]
     },
     "execution_count": 271,
     "metadata": {},
     "output_type": "execute_result"
    }
   ],
   "source": [
    "corr=tweets[['#Favorites', '#Followers', '#Friends', 'Positive', 'Negative', '#Retweets']].corr()\n",
    "corr"
   ]
  },
  {
   "cell_type": "code",
   "execution_count": 285,
   "metadata": {},
   "outputs": [
    {
     "data": {
      "text/plain": [
       "<matplotlib.axes._subplots.AxesSubplot at 0x157e3b0c948>"
      ]
     },
     "execution_count": 285,
     "metadata": {},
     "output_type": "execute_result"
    },
    {
     "data": {
      "image/png": "[encoded data removed]",
      "text/plain": [
       "<Figure size 432x288 with 2 Axes>"
      ]
     },
     "metadata": {
      "needs_background": "light"
     },
     "output_type": "display_data"
    }
   ],
   "source": [
    "# visualize correlation matrix\n",
    "# Generate a mask for the upper triangle\n",
    "mask = np.zeros_like(corr, dtype=np.bool)\n",
    "mask[np.triu_indices_from(mask)] = True\n",
    "#\n",
    "\n",
    "# Generate a custom diverging colormap\n",
    "cmap = sns.diverging_palette(220, 10, as_cmap=True)\n",
    "\n",
    "ax.set_title('Correlation Matrix')\n",
    "\n",
    "# Draw the heatmap with the mask and correct aspect ratio\n",
    "sns.heatmap(corr, mask=mask, cmap=cmap, center=0.1,\n",
    "            square=True, linewidths=.3)"
   ]
  },
  {
   "cell_type": "markdown",
   "metadata": {},
   "source": [
    "Further prepare the data for analysis"
   ]
  },
  {
   "cell_type": "code",
   "execution_count": 376,
   "metadata": {},
   "outputs": [],
   "source": [
    "# hot encode dummy variables for top mentions\n",
    "for i in top_mentions:\n",
    "    tweets[i]=0\n",
    "    tweets.loc[testdf['Mentions'].str.upper().str.contains(i), i]=1"
   ]
  },
  {
   "cell_type": "code",
   "execution_count": 377,
   "metadata": {},
   "outputs": [],
   "source": [
    "# hot encode dummy vars for top hashtags\n",
    "for i in top_hashtags:\n",
    "    tweets[i]=0\n",
    "    tweets.loc[testdf['Hashtags'].str.upper().str.contains(i), i]=1"
   ]
  },
  {
   "cell_type": "code",
   "execution_count": 392,
   "metadata": {},
   "outputs": [],
   "source": [
    "# parse day and time information from date \n",
    "tweets['ts']=pd.to_datetime(tweets['Timestamp'])\n",
    "tweets['hour']=tweets['ts'].dt.hour"
   ]
  },
  {
   "cell_type": "code",
   "execution_count": 393,
   "metadata": {},
   "outputs": [],
   "source": [
    "def f(x):\n",
    "    if (x > 6) and (x <= 12):\n",
    "        return 'Morning'\n",
    "    elif (x > 12) and (x <= 16):\n",
    "        return'Afternoon'\n",
    "    elif (x > 16) and (x <= 22) :\n",
    "        return 'Night'\n",
    "    elif (x > 22) and (x <= 24):\n",
    "        return'Late Night'\n",
    "    elif (x <= 4):\n",
    "        return'Late Night'\n",
    "\n",
    "tweets['time_of_day']=tweets['hour'].apply(f)"
   ]
  },
  {
   "cell_type": "code",
   "execution_count": 396,
   "metadata": {},
   "outputs": [],
   "source": [
    "tweets['day']=tweets['ts'].dt.weekday"
   ]
  },
  {
   "cell_type": "code",
   "execution_count": 401,
   "metadata": {},
   "outputs": [],
   "source": [
    "def d(x):\n",
    "    if (x>=0) and (x<=4):\n",
    "        return 'Weekday'\n",
    "    elif (x>4):\n",
    "        return 'Weekend'\n",
    "    \n",
    "tweets['day_of_wk']=tweets['day'].apply(d)"
   ]
  },
  {
   "cell_type": "code",
   "execution_count": 409,
   "metadata": {
    "scrolled": true
   },
   "outputs": [],
   "source": [
    "tweets=pd.concat([tweets, pd.get_dummies(tweets['day_of_wk']), pd.get_dummies(tweets['time_of_day'])], axis=1)"
   ]
  },
  {
   "cell_type": "code",
   "execution_count": 410,
   "metadata": {},
   "outputs": [
    {
     "data": {
      "text/html": [
       "<div>\n",
       "<style scoped>\n",
       "    .dataframe tbody tr th:only-of-type {\n",
       "        vertical-align: middle;\n",
       "    }\n",
       "\n",
       "    .dataframe tbody tr th {\n",
       "        vertical-align: top;\n",
       "    }\n",
       "\n",
       "    .dataframe thead th {\n",
       "        text-align: right;\n",
       "    }\n",
       "</style>\n",
       "<table border=\"1\" class=\"dataframe\">\n",
       "  <thead>\n",
       "    <tr style=\"text-align: right;\">\n",
       "      <th></th>\n",
       "      <th>Tweet ID</th>\n",
       "      <th>Username</th>\n",
       "      <th>Timestamp</th>\n",
       "      <th>#Followers</th>\n",
       "      <th>#Friends</th>\n",
       "      <th>#Retweets</th>\n",
       "      <th>#Favorites</th>\n",
       "      <th>Entities</th>\n",
       "      <th>Sentiment</th>\n",
       "      <th>Mentions</th>\n",
       "      <th>...</th>\n",
       "      <th>time_of_day</th>\n",
       "      <th>ts</th>\n",
       "      <th>day</th>\n",
       "      <th>day_of_wk</th>\n",
       "      <th>Weekday</th>\n",
       "      <th>Weekend</th>\n",
       "      <th>Afternoon</th>\n",
       "      <th>Late Night</th>\n",
       "      <th>Morning</th>\n",
       "      <th>Night</th>\n",
       "    </tr>\n",
       "  </thead>\n",
       "  <tbody>\n",
       "    <tr>\n",
       "      <th>0</th>\n",
       "      <td>1178791787386814465</td>\n",
       "      <td>35234fe4a19cc1a3336095fb3780bcc1</td>\n",
       "      <td>Mon Sep 30 22:00:37 +0000 2019</td>\n",
       "      <td>619</td>\n",
       "      <td>770</td>\n",
       "      <td>0</td>\n",
       "      <td>0</td>\n",
       "      <td>null;</td>\n",
       "      <td>2 -1</td>\n",
       "      <td>null;</td>\n",
       "      <td>...</td>\n",
       "      <td>Night</td>\n",
       "      <td>2019-09-30 22:00:37+00:00</td>\n",
       "      <td>0</td>\n",
       "      <td>Weekday</td>\n",
       "      <td>1</td>\n",
       "      <td>0</td>\n",
       "      <td>0</td>\n",
       "      <td>0</td>\n",
       "      <td>0</td>\n",
       "      <td>1</td>\n",
       "    </tr>\n",
       "    <tr>\n",
       "      <th>1</th>\n",
       "      <td>1178791985106153472</td>\n",
       "      <td>ea4592f39636d87af8fb4b17b7e2e4c0</td>\n",
       "      <td>Mon Sep 30 22:01:24 +0000 2019</td>\n",
       "      <td>36365</td>\n",
       "      <td>19344</td>\n",
       "      <td>13</td>\n",
       "      <td>17</td>\n",
       "      <td>nazi:Nazism:-2.742538749414189;blood money:Blo...</td>\n",
       "      <td>1 -4</td>\n",
       "      <td>null;</td>\n",
       "      <td>...</td>\n",
       "      <td>Night</td>\n",
       "      <td>2019-09-30 22:01:24+00:00</td>\n",
       "      <td>0</td>\n",
       "      <td>Weekday</td>\n",
       "      <td>1</td>\n",
       "      <td>0</td>\n",
       "      <td>0</td>\n",
       "      <td>0</td>\n",
       "      <td>0</td>\n",
       "      <td>1</td>\n",
       "    </tr>\n",
       "    <tr>\n",
       "      <th>2</th>\n",
       "      <td>1178793230223183872</td>\n",
       "      <td>bf05d1888dd974fa4a8679c25e2ead03</td>\n",
       "      <td>Mon Sep 30 22:06:21 +0000 2019</td>\n",
       "      <td>5018</td>\n",
       "      <td>1933</td>\n",
       "      <td>0</td>\n",
       "      <td>0</td>\n",
       "      <td>vaccine:Vaccine:-2.6651530673745762;anti vaxxe...</td>\n",
       "      <td>2 -1</td>\n",
       "      <td>null;</td>\n",
       "      <td>...</td>\n",
       "      <td>Night</td>\n",
       "      <td>2019-09-30 22:06:21+00:00</td>\n",
       "      <td>0</td>\n",
       "      <td>Weekday</td>\n",
       "      <td>1</td>\n",
       "      <td>0</td>\n",
       "      <td>0</td>\n",
       "      <td>0</td>\n",
       "      <td>0</td>\n",
       "      <td>1</td>\n",
       "    </tr>\n",
       "    <tr>\n",
       "      <th>3</th>\n",
       "      <td>1178795172206919680</td>\n",
       "      <td>eb8a99bca8945eab1d006750e9b75518</td>\n",
       "      <td>Mon Sep 30 22:14:04 +0000 2019</td>\n",
       "      <td>2219</td>\n",
       "      <td>971</td>\n",
       "      <td>0</td>\n",
       "      <td>0</td>\n",
       "      <td>muse:Muse_%28band%29:-2.1677823918620867;talki...</td>\n",
       "      <td>2 -1</td>\n",
       "      <td>null;</td>\n",
       "      <td>...</td>\n",
       "      <td>Night</td>\n",
       "      <td>2019-09-30 22:14:04+00:00</td>\n",
       "      <td>0</td>\n",
       "      <td>Weekday</td>\n",
       "      <td>1</td>\n",
       "      <td>0</td>\n",
       "      <td>0</td>\n",
       "      <td>0</td>\n",
       "      <td>0</td>\n",
       "      <td>1</td>\n",
       "    </tr>\n",
       "    <tr>\n",
       "      <th>4</th>\n",
       "      <td>1178798309491822592</td>\n",
       "      <td>00695cf79d60e86a5d0f872f4358337a</td>\n",
       "      <td>Mon Sep 30 22:26:32 +0000 2019</td>\n",
       "      <td>9009</td>\n",
       "      <td>4943</td>\n",
       "      <td>26</td>\n",
       "      <td>89</td>\n",
       "      <td>people of northern ireland:People_of_Northern_...</td>\n",
       "      <td>2 -1</td>\n",
       "      <td>null;</td>\n",
       "      <td>...</td>\n",
       "      <td>Night</td>\n",
       "      <td>2019-09-30 22:26:32+00:00</td>\n",
       "      <td>0</td>\n",
       "      <td>Weekday</td>\n",
       "      <td>1</td>\n",
       "      <td>0</td>\n",
       "      <td>0</td>\n",
       "      <td>0</td>\n",
       "      <td>0</td>\n",
       "      <td>1</td>\n",
       "    </tr>\n",
       "  </tbody>\n",
       "</table>\n",
       "<p>5 rows × 47 columns</p>\n",
       "</div>"
      ],
      "text/plain": [
       "              Tweet ID                          Username  \\\n",
       "0  1178791787386814465  35234fe4a19cc1a3336095fb3780bcc1   \n",
       "1  1178791985106153472  ea4592f39636d87af8fb4b17b7e2e4c0   \n",
       "2  1178793230223183872  bf05d1888dd974fa4a8679c25e2ead03   \n",
       "3  1178795172206919680  eb8a99bca8945eab1d006750e9b75518   \n",
       "4  1178798309491822592  00695cf79d60e86a5d0f872f4358337a   \n",
       "\n",
       "                        Timestamp  #Followers  #Friends  #Retweets  \\\n",
       "0  Mon Sep 30 22:00:37 +0000 2019         619       770          0   \n",
       "1  Mon Sep 30 22:01:24 +0000 2019       36365     19344         13   \n",
       "2  Mon Sep 30 22:06:21 +0000 2019        5018      1933          0   \n",
       "3  Mon Sep 30 22:14:04 +0000 2019        2219       971          0   \n",
       "4  Mon Sep 30 22:26:32 +0000 2019        9009      4943         26   \n",
       "\n",
       "   #Favorites                                           Entities Sentiment  \\\n",
       "0           0                                              null;      2 -1   \n",
       "1          17  nazi:Nazism:-2.742538749414189;blood money:Blo...      1 -4   \n",
       "2           0  vaccine:Vaccine:-2.6651530673745762;anti vaxxe...      2 -1   \n",
       "3           0  muse:Muse_%28band%29:-2.1677823918620867;talki...      2 -1   \n",
       "4          89  people of northern ireland:People_of_Northern_...      2 -1   \n",
       "\n",
       "  Mentions  ... time_of_day                        ts  day  day_of_wk  \\\n",
       "0    null;  ...       Night 2019-09-30 22:00:37+00:00    0    Weekday   \n",
       "1    null;  ...       Night 2019-09-30 22:01:24+00:00    0    Weekday   \n",
       "2    null;  ...       Night 2019-09-30 22:06:21+00:00    0    Weekday   \n",
       "3    null;  ...       Night 2019-09-30 22:14:04+00:00    0    Weekday   \n",
       "4    null;  ...       Night 2019-09-30 22:26:32+00:00    0    Weekday   \n",
       "\n",
       "   Weekday  Weekend  Afternoon  Late Night  Morning  Night  \n",
       "0        1        0          0           0        0      1  \n",
       "1        1        0          0           0        0      1  \n",
       "2        1        0          0           0        0      1  \n",
       "3        1        0          0           0        0      1  \n",
       "4        1        0          0           0        0      1  \n",
       "\n",
       "[5 rows x 47 columns]"
      ]
     },
     "execution_count": 410,
     "metadata": {},
     "output_type": "execute_result"
    }
   ],
   "source": [
    "tweets.head()"
   ]
  },
  {
   "cell_type": "code",
   "execution_count": 432,
   "metadata": {},
   "outputs": [],
   "source": [
    "#next, parse out entities \n",
    "ent=tweets['Entities'].str.split(';').copy()"
   ]
  },
  {
   "cell_type": "code",
   "execution_count": 434,
   "metadata": {},
   "outputs": [
    {
     "data": {
      "text/plain": [
       "0                                                 [null, ]\n",
       "1        [nazi:Nazism:-2.742538749414189, blood money:B...\n",
       "2        [vaccine:Vaccine:-2.6651530673745762, anti vax...\n",
       "3        [muse:Muse_%28band%29:-2.1677823918620867, tal...\n",
       "4        [people of northern ireland:People_of_Northern...\n",
       "                               ...                        \n",
       "99995                                             [null, ]\n",
       "99996    [happy birthday to you:Happy_Birthday_to_You:-...\n",
       "99997                                             [null, ]\n",
       "99998                                             [null, ]\n",
       "99999    [prolly:Prolly:-2.50789610553847, meme:Meme:-2...\n",
       "Name: Entities, Length: 100000, dtype: object"
      ]
     },
     "execution_count": 434,
     "metadata": {},
     "output_type": "execute_result"
    }
   ],
   "source": [
    "ent"
   ]
  },
  {
   "cell_type": "code",
   "execution_count": 450,
   "metadata": {},
   "outputs": [
    {
     "data": {
      "text/html": [
       "<div>\n",
       "<style scoped>\n",
       "    .dataframe tbody tr th:only-of-type {\n",
       "        vertical-align: middle;\n",
       "    }\n",
       "\n",
       "    .dataframe tbody tr th {\n",
       "        vertical-align: top;\n",
       "    }\n",
       "\n",
       "    .dataframe thead th {\n",
       "        text-align: right;\n",
       "    }\n",
       "</style>\n",
       "<table border=\"1\" class=\"dataframe\">\n",
       "  <thead>\n",
       "    <tr style=\"text-align: right;\">\n",
       "      <th></th>\n",
       "      <th></th>\n",
       "      <th>0</th>\n",
       "    </tr>\n",
       "    <tr>\n",
       "      <th></th>\n",
       "      <th>match</th>\n",
       "      <th></th>\n",
       "    </tr>\n",
       "  </thead>\n",
       "  <tbody>\n",
       "    <tr>\n",
       "      <th>1</th>\n",
       "      <th>0</th>\n",
       "      <td>Nazism:-2.742538749414189;blood money:Blood_mo...</td>\n",
       "    </tr>\n",
       "    <tr>\n",
       "      <th>2</th>\n",
       "      <th>0</th>\n",
       "      <td>Vaccine:-2.6651530673745762;anti vaxxer:Vaccin...</td>\n",
       "    </tr>\n",
       "    <tr>\n",
       "      <th>3</th>\n",
       "      <th>0</th>\n",
       "      <td>Muse_%28band%29:-2.1677823918620867;talking to...</td>\n",
       "    </tr>\n",
       "    <tr>\n",
       "      <th>4</th>\n",
       "      <th>0</th>\n",
       "      <td>People_of_Northern_Ireland:-2.3069923615516066...</td>\n",
       "    </tr>\n",
       "    <tr>\n",
       "      <th>5</th>\n",
       "      <th>0</th>\n",
       "      <td>CNN:</td>\n",
       "    </tr>\n",
       "    <tr>\n",
       "      <th>...</th>\n",
       "      <th>...</th>\n",
       "      <td>...</td>\n",
       "    </tr>\n",
       "    <tr>\n",
       "      <th>99991</th>\n",
       "      <th>0</th>\n",
       "      <td>Men_who_have_sex_with_men:-2.381092681249366;r...</td>\n",
       "    </tr>\n",
       "    <tr>\n",
       "      <th>99992</th>\n",
       "      <th>0</th>\n",
       "      <td>Flying_ace:-1.1031571587831288;jean navarre:Je...</td>\n",
       "    </tr>\n",
       "    <tr>\n",
       "      <th>99993</th>\n",
       "      <th>0</th>\n",
       "      <td>Make_It_Happen_%28Mariah_Carey_song%29:</td>\n",
       "    </tr>\n",
       "    <tr>\n",
       "      <th>99996</th>\n",
       "      <th>0</th>\n",
       "      <td>Happy_Birthday_to_You:</td>\n",
       "    </tr>\n",
       "    <tr>\n",
       "      <th>99999</th>\n",
       "      <th>0</th>\n",
       "      <td>Prolly:-2.50789610553847;meme:Meme:</td>\n",
       "    </tr>\n",
       "  </tbody>\n",
       "</table>\n",
       "<p>68313 rows × 1 columns</p>\n",
       "</div>"
      ],
      "text/plain": [
       "                                                             0\n",
       "      match                                                   \n",
       "1     0      Nazism:-2.742538749414189;blood money:Blood_mo...\n",
       "2     0      Vaccine:-2.6651530673745762;anti vaxxer:Vaccin...\n",
       "3     0      Muse_%28band%29:-2.1677823918620867;talking to...\n",
       "4     0      People_of_Northern_Ireland:-2.3069923615516066...\n",
       "5     0                                                   CNN:\n",
       "...                                                        ...\n",
       "99991 0      Men_who_have_sex_with_men:-2.381092681249366;r...\n",
       "99992 0      Flying_ace:-1.1031571587831288;jean navarre:Je...\n",
       "99993 0                Make_It_Happen_%28Mariah_Carey_song%29:\n",
       "99996 0                                 Happy_Birthday_to_You:\n",
       "99999 0                    Prolly:-2.50789610553847;meme:Meme:\n",
       "\n",
       "[68313 rows x 1 columns]"
      ]
     },
     "execution_count": 450,
     "metadata": {},
     "output_type": "execute_result"
    }
   ],
   "source": [
    "ent1=tweets['Entities']\n",
    "ent1.str.extractall(r':(.*:)')"
   ]
  },
  {
   "cell_type": "code",
   "execution_count": 451,
   "metadata": {},
   "outputs": [],
   "source": [
    "tweets['#Entities']=0\n",
    "tweets.loc[tweets['Entities'].str.contains('null')==False, '#Entities']=tweets['Entities'].str.count(';')"
   ]
  },
  {
   "cell_type": "code",
   "execution_count": 448,
   "metadata": {},
   "outputs": [
    {
     "data": {
      "text/html": [
       "<div>\n",
       "<style scoped>\n",
       "    .dataframe tbody tr th:only-of-type {\n",
       "        vertical-align: middle;\n",
       "    }\n",
       "\n",
       "    .dataframe tbody tr th {\n",
       "        vertical-align: top;\n",
       "    }\n",
       "\n",
       "    .dataframe thead th {\n",
       "        text-align: right;\n",
       "    }\n",
       "</style>\n",
       "<table border=\"1\" class=\"dataframe\">\n",
       "  <thead>\n",
       "    <tr style=\"text-align: right;\">\n",
       "      <th></th>\n",
       "      <th>#Entities</th>\n",
       "      <th>Entities</th>\n",
       "    </tr>\n",
       "  </thead>\n",
       "  <tbody>\n",
       "    <tr>\n",
       "      <th>0</th>\n",
       "      <td>0</td>\n",
       "      <td>null;</td>\n",
       "    </tr>\n",
       "    <tr>\n",
       "      <th>1</th>\n",
       "      <td>2</td>\n",
       "      <td>nazi:Nazism:-2.742538749414189;blood money:Blo...</td>\n",
       "    </tr>\n",
       "    <tr>\n",
       "      <th>2</th>\n",
       "      <td>3</td>\n",
       "      <td>vaccine:Vaccine:-2.6651530673745762;anti vaxxe...</td>\n",
       "    </tr>\n",
       "    <tr>\n",
       "      <th>3</th>\n",
       "      <td>2</td>\n",
       "      <td>muse:Muse_%28band%29:-2.1677823918620867;talki...</td>\n",
       "    </tr>\n",
       "    <tr>\n",
       "      <th>4</th>\n",
       "      <td>2</td>\n",
       "      <td>people of northern ireland:People_of_Northern_...</td>\n",
       "    </tr>\n",
       "    <tr>\n",
       "      <th>...</th>\n",
       "      <td>...</td>\n",
       "      <td>...</td>\n",
       "    </tr>\n",
       "    <tr>\n",
       "      <th>99995</th>\n",
       "      <td>0</td>\n",
       "      <td>null;</td>\n",
       "    </tr>\n",
       "    <tr>\n",
       "      <th>99996</th>\n",
       "      <td>1</td>\n",
       "      <td>happy birthday to you:Happy_Birthday_to_You:-1...</td>\n",
       "    </tr>\n",
       "    <tr>\n",
       "      <th>99997</th>\n",
       "      <td>0</td>\n",
       "      <td>null;</td>\n",
       "    </tr>\n",
       "    <tr>\n",
       "      <th>99998</th>\n",
       "      <td>0</td>\n",
       "      <td>null;</td>\n",
       "    </tr>\n",
       "    <tr>\n",
       "      <th>99999</th>\n",
       "      <td>2</td>\n",
       "      <td>prolly:Prolly:-2.50789610553847;meme:Meme:-2.7...</td>\n",
       "    </tr>\n",
       "  </tbody>\n",
       "</table>\n",
       "<p>100000 rows × 2 columns</p>\n",
       "</div>"
      ],
      "text/plain": [
       "       #Entities                                           Entities\n",
       "0              0                                              null;\n",
       "1              2  nazi:Nazism:-2.742538749414189;blood money:Blo...\n",
       "2              3  vaccine:Vaccine:-2.6651530673745762;anti vaxxe...\n",
       "3              2  muse:Muse_%28band%29:-2.1677823918620867;talki...\n",
       "4              2  people of northern ireland:People_of_Northern_...\n",
       "...          ...                                                ...\n",
       "99995          0                                              null;\n",
       "99996          1  happy birthday to you:Happy_Birthday_to_You:-1...\n",
       "99997          0                                              null;\n",
       "99998          0                                              null;\n",
       "99999          2  prolly:Prolly:-2.50789610553847;meme:Meme:-2.7...\n",
       "\n",
       "[100000 rows x 2 columns]"
      ]
     },
     "execution_count": 448,
     "metadata": {},
     "output_type": "execute_result"
    }
   ],
   "source": [
    "tweets[['#Entities', 'Entities']]"
   ]
  },
  {
   "cell_type": "code",
   "execution_count": 378,
   "metadata": {},
   "outputs": [
    {
     "data": {
      "text/plain": [
       "Index(['Tweet ID', 'Username', 'Timestamp', '#Followers', '#Friends',\n",
       "       '#Retweets', '#Favorites', 'Entities', 'Sentiment', 'Mentions',\n",
       "       'Hashtags', 'URLs', 'Positive', 'Negative', '#Mentions', '#Hashtags',\n",
       "       'REALDONALDTRUMP', 'JAKETAPPER', 'BTS_TWT', 'POTUS', 'YOUTUBE', 'CNN',\n",
       "       'NBA', 'SPEAKERPELOSI', 'GOP', 'LINDSEYGRAHAMSC', 'CHINA', 'HEALTHCARE',\n",
       "       'HONGKONG', 'HONGKONGPROTESTS', 'STANDWITHHONGKONG', 'CHINAZI',\n",
       "       'STRONGERTOGETHER', 'ANTICHINAZI', 'ANTIMASKLAW',\n",
       "       'IMPEACHTRUMPPENCEBARRPOMPEO'],\n",
       "      dtype='object')"
      ]
     },
     "execution_count": 378,
     "metadata": {},
     "output_type": "execute_result"
    }
   ],
   "source": [
    "# drop mention and hashtag variables, along with url and sentiment  \n",
    "cleaned_tweets=tweets.drop(['Hashtags', 'Mentions', 'Tweet ID', 'Username', 'Sentiment', 'URL', 'day_of_wk', 'time_of_day', 'hour', 'day', 'ts']).copy()"
   ]
  },
  {
   "cell_type": "code",
   "execution_count": null,
   "metadata": {},
   "outputs": [],
   "source": []
  }
 ],
 "metadata": {
  "kernelspec": {
   "display_name": "Python 3",
   "language": "python",
   "name": "python3"
  },
  "language_info": {
   "codemirror_mode": {
    "name": "ipython",
    "version": 3
   },
   "file_extension": ".py",
   "mimetype": "text/x-python",
   "name": "python",
   "nbconvert_exporter": "python",
   "pygments_lexer": "ipython3",
   "version": "3.7.7"
  }
 },
 "nbformat": 4,
 "nbformat_minor": 4
}
